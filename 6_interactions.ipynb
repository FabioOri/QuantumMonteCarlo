{
 "cells": [
  {
   "cell_type": "markdown",
   "id": "afe8ba5a",
   "metadata": {},
   "source": [
    "# Instanton interactions\n",
    "The programme allows to study instanton interactions in a double well potential $V(x)=\\lambda\\left(x^2-\\eta^2\\right)^2$ exploiting various computational techniques (sum ansatz, Monte Carlo simulations, streamline equation method).\n",
    "\n",
    "Input parameters, with default values:\n",
    "- potential parameters: $\\lambda=1$, $\\eta=1.4$\n",
    "- mass of the particle: $m=0.5$\n",
    "- number of lattice points: $N=800$\n",
    "- lattice spacing: $a=0.05$\n",
    "- number of Metropolis sweeps: $N_{sweeps}=100$\n",
    "- number of instantons in the sum ansatz: $N_{in}=10$\n",
    "- average instanton position update: $\\Delta z=1$\n",
    "- hard core interaction radius: $r_{core}=0.3$\n",
    "- hard core interaction strength: $a_{core}=3$"
   ]
  },
  {
   "cell_type": "code",
   "execution_count": 1,
   "id": "398b8315",
   "metadata": {},
   "outputs": [],
   "source": [
    "import matplotlib.pyplot as plt\n",
    "import numpy as np\n",
    "from numpy import linalg as LA\n",
    "import math\n",
    "import random\n",
    "from tqdm.notebook import tqdm\n",
    "import itertools                       # Needed for list of lists mergingu"
   ]
  },
  {
   "cell_type": "code",
   "execution_count": 2,
   "id": "75065945",
   "metadata": {},
   "outputs": [
    {
     "name": "stdout",
     "output_type": "stream",
     "text": [
      "lambda = \n",
      "eta = \n",
      "m = \n"
     ]
    }
   ],
   "source": [
    "# Parameters of the potential\n",
    "Lambda = float(input(\"lambda = \") or 1);\n",
    "eta = float(input(\"eta = \") or 1.4);\n",
    "m = float(input(\"m = \") or 1/2);\n",
    "hbar = 1;"
   ]
  },
  {
   "cell_type": "code",
   "execution_count": 3,
   "id": "e06257e4",
   "metadata": {},
   "outputs": [
    {
     "name": "stdout",
     "output_type": "stream",
     "text": [
      "N = \n",
      "a = \n",
      "Nsweeps = \n",
      "deltaz = \n"
     ]
    }
   ],
   "source": [
    "# Lattice parameters\n",
    "N = int(input(\"N = \") or 800);\n",
    "a = float(input(\"a = \") or 0.05);\n",
    "Nsweeps = int(input(\"Nsweeps = \") or 100);\n",
    "deltaz = float(input(\"deltaz = \") or 1);"
   ]
  },
  {
   "cell_type": "markdown",
   "id": "9a527a6f",
   "metadata": {},
   "source": [
    "### Instanton number estimate and sum ansatz\n",
    "The instanton number estimate and the building of the sum ansatz is the same as in the random instanton approximation."
   ]
  },
  {
   "cell_type": "code",
   "execution_count": 4,
   "id": "0ab6e1ef",
   "metadata": {},
   "outputs": [
    {
     "name": "stdout",
     "output_type": "stream",
     "text": [
      "One-loop estimate: Nin = 15\n",
      "Two-loop estimate: Nin = 12\n",
      "Nin = \n"
     ]
    }
   ],
   "source": [
    "# Number of instantons, semiclassical estimate\n",
    "S0 = 4*eta**3/3;\n",
    "instdens1 = 8*np.sqrt(2/np.pi)*eta**2.5*np.exp(-S0);           # One-loop\n",
    "instdens2 = instdens1*np.exp(-71/(72*S0));                     # Two-loop\n",
    "\n",
    "beta = N*a;                     # Total euclidean time\n",
    "Nin1 = instdens1*beta;\n",
    "Nin2 = instdens2*beta;\n",
    "\n",
    "Nin_exp1 = round(Nin1)          # Expected number of instantons\n",
    "Nin_exp2 = round(Nin2)\n",
    "\n",
    "print('One-loop estimate: Nin = '+str(Nin_exp1))\n",
    "print('Two-loop estimate: Nin = '+str(Nin_exp2))\n",
    "\n",
    "Nin = int(input(\"Nin = \") or Nin_exp2);"
   ]
  },
  {
   "cell_type": "code",
   "execution_count": 5,
   "id": "9c9461d9",
   "metadata": {},
   "outputs": [],
   "source": [
    "# Fixing the instanton positions randomly\n",
    "def setup(Nin, z, beta):    \n",
    "    for j in range(Nin):\n",
    "        z[j] = random.random()*beta;    # Random instanton positions collected in vector z\n",
    "    \n",
    "    z = sorted(z);                      # Sorting the instanton positions\n",
    "    \n",
    "    \n",
    "# Function that generates the sum ansatz\n",
    "def sum_ans(Nin, eta, z, t):\n",
    "    Neven = Nin - Nin%2;         # Taking only half of Nin values\n",
    "    xsum = -eta;                 # Initial value for sum ansatz\n",
    "    \n",
    "    for j in range(1, Neven-1, 2):                                                        # Loop every two values of j\n",
    "        xsum = xsum + eta*np.tanh(2*eta*(t-z[j-1])) - eta*np.tanh(2*eta*(t-z[j-1]));      # Building the ansatz\n",
    "    \n",
    "    if Nin%2 != 0:\n",
    "        xsum = xsum + eta*np.tanh(2*eta*(t-z[Nin-1])) + eta;                              # Added term\n",
    "    \n",
    "    return xsum\n",
    "\n",
    "\n",
    "# Function that computes the sum ansatz on the lattice x\n",
    "def xconf(Nin, eta, z, x):\n",
    "    for j in range(N):\n",
    "        xt = a*j;\n",
    "        x[j] = sum_ans(Nin, eta, z, xt);"
   ]
  },
  {
   "cell_type": "markdown",
   "id": "c4a1de48",
   "metadata": {},
   "source": [
    "It will turn useful to include a function that allows to create a sum ansatz with fixed instanton-anti-instanton separation $\\tau_{IA}$."
   ]
  },
  {
   "cell_type": "code",
   "execution_count": 6,
   "id": "be227096",
   "metadata": {},
   "outputs": [],
   "source": [
    "# Fixing the instanton positions randomly with fixed instanton-anti-instanton separation tIA\n",
    "def setup_fixed(Nin, z, beta, tIA):    \n",
    "    for j in range(0, Nin-1, 2):\n",
    "        z[j] = random.random()*beta;    # Random instanton positions collected in vector z\n",
    "        z[j+1] = z[j] + tIA;            # Fixed instanton separation\n",
    "    \n",
    "    z = sorted(z);                      # Sorting the instanton positions"
   ]
  },
  {
   "cell_type": "markdown",
   "id": "1db0a48d",
   "metadata": {},
   "source": [
    "## Hard core interaction\n",
    "In order to include interactions between instantons, we consider the simplest case of a short-range repulsive core that excludes configurations with close instanton-anti-instanton pairs (which are not semiclassical configurations). In particular, here we include in the action an interacting term of the form:\n",
    "\n",
    "$$\n",
    "S_{core}(\\tau_{IA})=A_c\\ \\mbox{exp}\\left(-\\frac{\\tau_{IA}}{\\tau_C}\\right)\n",
    "$$\n",
    "\n",
    "where $\\tau_{IA} = |\\tau_I - \\tau_A|$ is the instanton-anti-instanton separation, $\\tau_C\\sim 0.3$ is the range of hard core interaction, and $A_{c}\\sim 3$ is its strength."
   ]
  },
  {
   "cell_type": "code",
   "execution_count": 7,
   "id": "fd233387",
   "metadata": {},
   "outputs": [],
   "source": [
    "# Function that evaluates the action of a given configuration\n",
    "def S(x):\n",
    "    Action = 0;\n",
    "    \n",
    "    for j in range(N):\n",
    "        if j == N-1:\n",
    "            Action = Action + ((x[j]-x[j-1])**2 + (x[0]-x[j])**2)/(4*a) + a*(x[j]**2-eta**2)**2;\n",
    "        else:\n",
    "            Action = Action + ((x[j]-x[j-1])**2 + (x[j+1]-x[j])**2)/(4*a) + a*(x[j]**2-eta**2)**2;\n",
    "    \n",
    "    return Action"
   ]
  },
  {
   "cell_type": "code",
   "execution_count": 8,
   "id": "0685ca70",
   "metadata": {},
   "outputs": [
    {
     "name": "stdout",
     "output_type": "stream",
     "text": [
      "Tcore = \n",
      "Acore = \n"
     ]
    }
   ],
   "source": [
    "# Hard core interaction parameters\n",
    "Tcore = float(input(\"Tcore = \") or 0.3);\n",
    "Acore = float(input(\"Acore = \") or 3);\n",
    "\n",
    "Score = Acore*S0;         # Classical action for the hard core interaction"
   ]
  },
  {
   "cell_type": "code",
   "execution_count": 10,
   "id": "eac8d267",
   "metadata": {},
   "outputs": [],
   "source": [
    "# Evaluating the interaction term in the action\n",
    "def Sint(z, Nin):\n",
    "    Shc = 0;\n",
    "    \n",
    "    if Tcore == 0:         # If the interaction has zero radius, the associated action vanishes\n",
    "        return\n",
    "    \n",
    "    for j in range(Nin):\n",
    "        if j == 0:\n",
    "            zm = z[Nin-1] - beta;              # Periodic boundary conditions\n",
    "        else:\n",
    "            zm = z[j-1];\n",
    "        \n",
    "        dz = z[j] - zm;                        # Instanton-anti-instanton separation from vector z\n",
    "        Shc = Shc + Score*np.exp(-dz/Tcore);   # Full action obtained as a sum of all terms\n",
    "    \n",
    "    return Shc"
   ]
  },
  {
   "cell_type": "markdown",
   "id": "b91a309c",
   "metadata": {},
   "source": [
    "## Sum ansatz and instanton interactions"
   ]
  },
  {
   "cell_type": "code",
   "execution_count": 11,
   "id": "deb6a6d6",
   "metadata": {},
   "outputs": [],
   "source": [
    "# Smoothing function with moving slider\n",
    "def smooth(x, ns):\n",
    "    xs = np.zeros(len(x));\n",
    "    \n",
    "    for i in range(len(x)):\n",
    "        xsum = 0;\n",
    "        \n",
    "        for j in range(i-ns, i+ns):\n",
    "            jp = j;\n",
    "            \n",
    "            if j<0:                     # Periodic boundary conditions\n",
    "                jp = len(x)+j;\n",
    "            \n",
    "            if j>len(x)-1:\n",
    "                jp = j-len(x);\n",
    "                \n",
    "            xsum = xsum + x[jp];\n",
    "        \n",
    "        xs[i] = xsum / (2*ns+1);        # Average over selected points\n",
    "    \n",
    "    return xs"
   ]
  },
  {
   "cell_type": "code",
   "execution_count": 12,
   "id": "c522040a",
   "metadata": {},
   "outputs": [],
   "source": [
    "# Smoothing function taking the (upper) envelope of a given function\n",
    "# (in order to remove noise)\n",
    "def smooth_max(x, ns):\n",
    "    xs = np.zeros(len(x));\n",
    "    \n",
    "    for i in range(len(x)):\n",
    "        indices = np.zeros(2*ns+1);\n",
    "        \n",
    "        for j in range(i-ns, i+ns):\n",
    "            jp = j;\n",
    "            \n",
    "            if j<0:\n",
    "                jp = 0;\n",
    "            \n",
    "            if j>len(x)-1:\n",
    "                jp = len(x)-1;\n",
    "            \n",
    "            indices[j-i+ns] = jp;\n",
    "        \n",
    "        indices = indices.astype(int);       # Set the type to int\n",
    "            \n",
    "        xs[i] = min(x[indices]);             # Taking the minimum (opposite signs)\n",
    "    \n",
    "    return xs"
   ]
  },
  {
   "cell_type": "code",
   "execution_count": 14,
   "id": "9b964152",
   "metadata": {},
   "outputs": [
    {
     "name": "stdout",
     "output_type": "stream",
     "text": [
      "Npoints = \n"
     ]
    },
    {
     "data": {
      "application/vnd.jupyter.widget-view+json": {
       "model_id": "",
       "version_major": 2,
       "version_minor": 0
      },
      "text/plain": [
       "  0%|          | 0/5000 [00:00<?, ?it/s]"
      ]
     },
     "metadata": {},
     "output_type": "display_data"
    },
    {
     "data": {
      "image/png": "[encoded data removed]",
      "text/plain": [
       "<Figure size 720x360 with 1 Axes>"
      ]
     },
     "metadata": {
      "needs_background": "light"
     },
     "output_type": "display_data"
    }
   ],
   "source": [
    "Npoints = int(input(\"Npoints = \") or 5000);       # Number of lattice points for sum ansatz computation\n",
    "\n",
    "Sint_vec = np.zeros(Npoints);\n",
    "tIA_vec = np.zeros(Npoints);\n",
    "\n",
    "# Evaluating the interacting term for the sum ansatz\n",
    "for j in tqdm(range(Npoints), leave = False):\n",
    "    z = np.zeros(Nin);\n",
    "    x = np.zeros(N);\n",
    "    \n",
    "    tIA = (j+1)*2 / Npoints;            # j+1 instead of j in order to avoid tIA = 0\n",
    "    tIA_vec[j] = tIA;\n",
    "\n",
    "    setup_fixed(Nin, z, beta, tIA);\n",
    "    z = sorted(z);\n",
    "    xconf(Nin, eta, z, x);\n",
    "\n",
    "    Sint_vec[j] = Sint(z, Nin) / S0;    # Rescale with respect to the classical action S0\n",
    "    \n",
    "# Plotting the interacting term of the action\n",
    "fig, ax = plt.subplots(figsize=(10,5))\n",
    "# ax.plot(tIA_vec, -Sint_vec, linewidth = 1);\n",
    "ax.set_xlabel('$\\\\tau_{IA}$');\n",
    "ax.set_ylabel('$S_{int}\\, /\\, S_0$');\n",
    "plt.grid(linewidth=0.5);\n",
    "plt.title('Interacting term in the action for $\\eta =$'+str(eta));\n",
    "\n",
    "Sint_s = smooth_max(Sint_vec, int(Npoints / 10));\n",
    "ax.plot(tIA_vec, -Sint_s);\n",
    "plt.ylim([min(-Sint_s),0]);"
   ]
  },
  {
   "cell_type": "markdown",
   "id": "76a57979",
   "metadata": {},
   "source": [
    "## Monte Carlo"
   ]
  },
  {
   "cell_type": "code",
   "execution_count": 15,
   "id": "6178f451",
   "metadata": {},
   "outputs": [],
   "source": [
    "# Function that evaluates the action of a given configuration considering only j-dependent terms\n",
    "def Sj(j, x):\n",
    "    if j == N-1:\n",
    "        Action = ((x[j]-x[j-1])**2 + (x[0]-x[j])**2)/(4*a) + a*(x[j]**2-eta**2)**2;       # Periodic boundary conditions\n",
    "    else:\n",
    "        Action = ((x[j]-x[j-1])**2 + (x[j+1]-x[j])**2)/(4*a) + a*(x[j]**2-eta**2)**2;\n",
    "    return Action"
   ]
  },
  {
   "cell_type": "code",
   "execution_count": 16,
   "id": "004ddfb2",
   "metadata": {},
   "outputs": [],
   "source": [
    "eps = 0.5;\n",
    "\n",
    "# Function that updates x cooling the system\n",
    "def cooling(y):\n",
    "    for j in range(N):\n",
    "        old_y = y[j];                                    # Save the original values\n",
    "        old_S = Sj(j, y);\n",
    "        y[j] = y[j] + random.gauss(0, eps);              # Update x[j]\n",
    "        dS = Sj(j, y) - old_S;                           # Change in action\n",
    "        if dS > 0:                                       # Cooling condition\n",
    "            y[j] = old_y;                                # Restore the old value in case the condition is not satisfied"
   ]
  },
  {
   "cell_type": "code",
   "execution_count": 17,
   "id": "2d96dfc6",
   "metadata": {},
   "outputs": [],
   "source": [
    "def dist(x):\n",
    "    zcross = [];\n",
    "    \n",
    "    for j in range(len(x)-1):\n",
    "        if x[j]*x[j+1]<0:\n",
    "            mean = (x[j] + x[j+1])/2;\n",
    "            zcross.append(mean);\n",
    "    \n",
    "    if len(zcross)%2 != 0:\n",
    "        zcross.pop();\n",
    "    \n",
    "    dist = [];\n",
    "    \n",
    "    for j in range(int(len(zcross)/2)):\n",
    "        dist.append( np.abs(zcross[2*j] - zcross[2*j+1]) );\n",
    "        \n",
    "    return dist;"
   ]
  },
  {
   "cell_type": "raw",
   "id": "dea9e913",
   "metadata": {},
   "source": [
    "# Funziona ma non è cooled\n",
    "def dist(z):\n",
    "    dist = [];\n",
    "    \n",
    "    for j in range(int(len(z)/2)):\n",
    "        dist.append(np.abs(z[2*j] - z[2*j+1]));\n",
    "    \n",
    "    return dist"
   ]
  },
  {
   "cell_type": "code",
   "execution_count": 18,
   "id": "78271ca9",
   "metadata": {},
   "outputs": [
    {
     "data": {
      "application/vnd.jupyter.widget-view+json": {
       "model_id": "",
       "version_major": 2,
       "version_minor": 0
      },
      "text/plain": [
       "  0%|          | 0/100 [00:00<?, ?it/s]"
      ]
     },
     "metadata": {},
     "output_type": "display_data"
    }
   ],
   "source": [
    "z_matrix = np.zeros((Nsweeps, Nin));\n",
    "\n",
    "z = np.zeros(Nin);\n",
    "x = np.zeros(N);\n",
    "\n",
    "setup(Nin, z, beta);\n",
    "z = sorted(z);\n",
    "xconf(Nin, eta, z, x);\n",
    "\n",
    "Ncool = 10;\n",
    "\n",
    "Stot = S(x) + Sint(x, Nin);\n",
    "\n",
    "dis = [];\n",
    "\n",
    "for k in tqdm(range(Nsweeps), leave = False):         \n",
    "    for j in range(Nin):\n",
    "        Sold = Stot;\n",
    "        zold = z[j];\n",
    "        z_store = z;\n",
    "        \n",
    "        znew = zold + (random.random()-0.5)*deltaz;\n",
    "        \n",
    "        if znew > beta:\n",
    "            znew = znew - beta;\n",
    "        if znew < 0:\n",
    "            znew = znew + beta;\n",
    "        \n",
    "        z[j] = znew;\n",
    "        z = sorted(z);\n",
    "        \n",
    "        xconf(Nin, eta, z, x);\n",
    "        Snew = S(x) + Sint(z, Nin);\n",
    "        delS = Snew - Sold;\n",
    "        \n",
    "        if np.exp(-delS) > random.random():\n",
    "            Stot = Snew;\n",
    "        else:\n",
    "            z = z_store;\n",
    "    \n",
    "    for j in range(Ncool):\n",
    "        cooling(x);\n",
    "\n",
    "    dis.append(dist(z));\n",
    "    \n",
    "    z_matrix[k, :] = z;\n",
    "    \n",
    "dis = list(itertools.chain.from_iterable(dis));"
   ]
  },
  {
   "cell_type": "code",
   "execution_count": 20,
   "id": "4c92c5ef",
   "metadata": {},
   "outputs": [
    {
     "data": {
      "image/png": "[encoded data removed]",
      "text/plain": [
       "<Figure size 720x360 with 1 Axes>"
      ]
     },
     "metadata": {
      "needs_background": "light"
     },
     "output_type": "display_data"
    }
   ],
   "source": [
    "fig, ax = plt.subplots(figsize=(10,5))\n",
    "ax.hist(dis, 500, label = 'RILM');\n",
    "ax.set_xlabel('$\\\\tau_{IA}$');\n",
    "ax.set_ylabel('Number of counts');\n",
    "plt.xlim([0, 4]);\n",
    "plt.grid(linewidth=0.5);\n",
    "plt.title('Probability distribution for $\\eta =$'+str(eta));\n",
    "plt.legend();\n",
    "plt.show();"
   ]
  },
  {
   "cell_type": "markdown",
   "id": "1017cb81",
   "metadata": {},
   "source": [
    "### Interacting instanton configuration"
   ]
  },
  {
   "cell_type": "code",
   "execution_count": 21,
   "id": "b623fbce",
   "metadata": {},
   "outputs": [
    {
     "data": {
      "image/png": "[encoded data removed]",
      "text/plain": [
       "<Figure size 720x360 with 1 Axes>"
      ]
     },
     "metadata": {
      "needs_background": "light"
     },
     "output_type": "display_data"
    }
   ],
   "source": [
    "# Plotting the instanton configuration\n",
    "fig, ax = plt.subplots(figsize=(10,5))\n",
    "ax.plot([j for j in range(Nsweeps)], z_matrix);\n",
    "ax.set_xlabel('$N_{sweeps}$');\n",
    "ax.set_ylabel('$z$');\n",
    "plt.xlim([0, Nsweeps])\n",
    "plt.grid(linewidth=0.5);\n",
    "plt.title('Interacting instanton configuration for $\\eta =$'+str(eta));"
   ]
  },
  {
   "cell_type": "markdown",
   "id": "20d613ec",
   "metadata": {},
   "source": [
    "## Streamline method"
   ]
  },
  {
   "cell_type": "code",
   "execution_count": null,
   "id": "42c5e744",
   "metadata": {},
   "outputs": [],
   "source": [
    "R0 = float(input(\"R0 = \") or 1.8);\n",
    "dxi = float(input(\"dxi = \") or 0.001);\n",
    "n = int(input(\"n = \") or 100);\n",
    "dtau = float(input(\"dtau = \") or 0.05);"
   ]
  },
  {
   "cell_type": "code",
   "execution_count": null,
   "id": "9345cb81",
   "metadata": {},
   "outputs": [],
   "source": [
    "def Sstream(x):\n",
    "    Stot = 0;\n",
    "    derS = np.zeros(n+4);\n",
    "    S_vec = np.zeros(n+4);\n",
    "    \n",
    "    for j in range(n+2):\n",
    "        tau = j*dtau - n*dtau/2;\n",
    "        xdot = (x[j+1] - x[j-1]) / (2*dtau);\n",
    "        S_vec[j] = dtau*xdot**2/4 + (x[j]**2-eta**2)**2;\n",
    "        Stot = Stot + S_vec[j];\n",
    "        \n",
    "        xddot = (-x[j+2] + 16*x[j+1] - 30*x[j] + 16*x[j-1] - x[j-2]) / (12*dtau**2);\n",
    "        derS[j] = -xddot/2 + 4*x[j]*(x[j]**2 - eta**2);\n",
    "    \n",
    "    return Stot, S_vec, derS"
   ]
  },
  {
   "cell_type": "code",
   "execution_count": null,
   "id": "7f9982dc",
   "metadata": {},
   "outputs": [],
   "source": [
    "def dist(xs):\n",
    "    jmax = n;\n",
    "    Smax = S_vec[n];\n",
    "    jcr = 0;\n",
    "    \n",
    "    for j in range(n, 0, -1):\n",
    "        S0 = S_vec[j];\n",
    "        \n",
    "        if S0 > Smax:\n",
    "            Smax = S0;\n",
    "            jmax = j;\n",
    "        \n",
    "        if xs[j] < 0 and xs[j-1] > 0:\n",
    "            jcr = j;\n",
    "    \n",
    "    dis = 2*jmax*dtau;\n",
    "    dis2 = 2*jcr*dtau;\n",
    "    \n",
    "    return dis, dis2"
   ]
  },
  {
   "cell_type": "code",
   "execution_count": null,
   "id": "f9456283",
   "metadata": {},
   "outputs": [],
   "source": [
    "nmax = int(input(\"nmax = \") or 10**4);\n",
    "\n",
    "taui = -R0/2;\n",
    "taua = R0/2; \n",
    "\n",
    "# Ncool = 2;\n",
    "tau_vec = np.zeros(n+4);\n",
    "x = np.zeros(n+4);\n",
    "xn = x;\n",
    "\n",
    "for j in range(n+4):\n",
    "    tau = j*dtau - n*dtau/2;\n",
    "    tau_vec[j] = tau;\n",
    "    x[j] = eta*(np.tanh(2*eta*(tau-taui)) - np.tanh(2*eta*(tau-taua)) - 1);\n",
    "    xn[j] = x[j];\n",
    "\n",
    "Stot, _, derS = Sstream(x);\n",
    "    \n",
    "Sinit = Stot;\n",
    "Slast = Stot;\n",
    "Sstep = Stot;\n",
    "\n",
    "xmatrix = np.zeros((n+4, nmax));\n",
    "Smatrix = np.zeros((n+4, nmax));\n",
    "\n",
    "for k in tqdm(range(nmax), leave = False):\n",
    "    _, _, derS = Sstream(x);\n",
    "    xn = x - derS*dxi;\n",
    "    xn[0] = xn[2];\n",
    "    xn[1] = xn[2];\n",
    "    xn[n+2] = xn[n+1];\n",
    "    xn[n+3] = xn[n+1];\n",
    "    \n",
    "    Stot, S_vec, _ = Sstream(xn);\n",
    "    Smatrix[:, k] = S_vec;\n",
    "    \n",
    "    x[0] = xn[2];\n",
    "    x[1] = xn[2];\n",
    "    x[n+2] = xn[n+1];\n",
    "    x[n+3] = xn[n+1];\n",
    "    \n",
    "    if np.abs(Slast - Stot)/Sinit > 0.1:\n",
    "        Slast = Stot;\n",
    "        \n",
    "        for j in range(n+4):\n",
    "            tau = j*dtau - n*dtau/2;\n",
    "            #dis, dis2 = dist(x);\n",
    "            \n",
    "    if Stot/Sinit > 0.05:  \n",
    "        for j in range(n+4):\n",
    "            tau = j*dtau - n*dtau/2;\n",
    "            #dis, dis2 = dist(x);\n",
    "        \n",
    "    xmatrix[:, k] = x;"
   ]
  },
  {
   "cell_type": "code",
   "execution_count": null,
   "id": "e5ef8aac",
   "metadata": {},
   "outputs": [],
   "source": [
    "# Plotting the streamline solutions\n",
    "fig, ax = plt.subplots(figsize=(10,6))\n",
    "\n",
    "for j in range(nmax):\n",
    "    if j%100 == 0:\n",
    "        indices = j;\n",
    "\n",
    "ax.plot(tau_vec, xmatrix[:, indices]);\n",
    "ax.set_xlabel('$\\\\tau$');\n",
    "ax.set_ylabel('$x(\\\\tau)$');\n",
    "plt.xlim([-2, 2]);\n",
    "plt.grid(linewidth=0.5);\n",
    "plt.title('Streamline path for $\\eta =$'+str(eta));"
   ]
  },
  {
   "cell_type": "code",
   "execution_count": null,
   "id": "6fd7d214",
   "metadata": {},
   "outputs": [],
   "source": [
    "# Plotting the streamline actions\n",
    "fig, ax = plt.subplots(figsize=(10,6))\n",
    "\n",
    "for j in range(nmax):\n",
    "    if j%100 == 0:\n",
    "        indices = j;\n",
    "\n",
    "ax.plot(tau_vec, Smatrix[:, indices]);\n",
    "ax.set_xlabel('$\\\\tau$');\n",
    "ax.set_ylabel('$S(\\\\tau)$');\n",
    "plt.xlim([-2, 2]);\n",
    "plt.grid(linewidth=0.5);\n",
    "plt.title('Streamline action for $\\eta =$'+str(eta));"
   ]
  },
  {
   "cell_type": "code",
   "execution_count": null,
   "id": "5efa9fe7",
   "metadata": {},
   "outputs": [],
   "source": []
  }
 ],
 "metadata": {
  "kernelspec": {
   "display_name": "Python 3 (ipykernel)",
   "language": "python",
   "name": "python3"
  },
  "language_info": {
   "codemirror_mode": {
    "name": "ipython",
    "version": 3
   },
   "file_extension": ".py",
   "mimetype": "text/x-python",
   "name": "python",
   "nbconvert_exporter": "python",
   "pygments_lexer": "ipython3",
   "version": "3.10.2"
  }
 },
 "nbformat": 4,
 "nbformat_minor": 5
}
