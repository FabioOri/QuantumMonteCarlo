{
 "cells": [
  {
   "cell_type": "markdown",
   "id": "0690a3de",
   "metadata": {},
   "source": [
    "# Instantons and Monte Carlo methods in Quantum Mechanics\n",
    "\n",
    "In this project, we describe the use of Monte Carlo simulations in understanding the role of tunneling events, instantons, in a quantum mechanical model. We consider a non-relativistic particle moving in a double-well potential. The Hamiltonian of this anharmonic oscillator is:\n",
    "\n",
    "$$\n",
    "H=\\frac{p^2}{2m} + \\lambda \\left(x^2-\\eta^2\\right)^2\n",
    "$$\n",
    "\n",
    "characterized by one dimensionless parameter $\\eta$ (with $2m = \\lambda =1$, $\\hbar = 1$).\n",
    "\n",
    "This quantum mechanical problem can be solved either by direct exact diagonalization of matrix $H$ or by using Feynman path integral formulation."
   ]
  },
  {
   "cell_type": "markdown",
   "id": "80d5f6e5",
   "metadata": {},
   "source": [
    "## Monte Carlo methods for evaluating path integrals\n",
    "\n",
    "The core of this project consists of using the Monte Carlo simulations in order to evaluate path integrals. \n",
    "\n",
    "The path integral for the anharmonic oscillator is given by\n",
    "\n",
    "$$\n",
    "\\left<x_f\\left|\\ e^{-iHt}\\ \\right|x_i\\right>\\ =\\int_{x(0)=x_i}^{x(t)=x_f} \\mathcal{D}x(t)\\ e^{iS[x]}\\qquad\\qquad\n",
    "S[x]=\\int_0^t dt\\left[\\frac{1}{4}\\dot{x}^2-\\left(x^2-\\eta^2\\right)^2\\right]\\qquad\\qquad\n",
    "S_E[x]=\\int_0^\\beta d\\tau \\left[\\frac{1}{4}\\dot{x}^2+\\left(x^2-\\eta^2\\right)^2\\right]  \n",
    "$$\n",
    "\n",
    "We shall use a discretized euclidean action and an euclidean partition function:\n",
    "\n",
    "$$\n",
    "S=\\sum_{j=1}^N \\left[\\frac{1}{4a}\\left(x_j-x_{j-1}\\right)^2+a\\left(x_j^2-\\eta^2\\right)^2\\right] \\qquad\\qquad Z(T) = \\int \\mathcal{D}x(\\tau)\\ e^{-S_E}\n",
    "$$\n",
    "\n",
    "where we have discretized the euclidean time coordinate $\\tau_{i}= ia$, with $i = 1,..,N$ lattice points, the lattice spacing $a$ and the paths $x_{i}= x(\\tau_{i})$.\n",
    "\n",
    "\n",
    "We shall study numerical simulations done on a discrete one-dimensional time lattice, made up of $N$ time slices with periodic boundary conditions so that the time slice $N+1$ equals the time slice $1$, i.e. $x_{0}=x_{n}$.\n",
    "\n",
    "We shall use standard Monte Carlo sampling methods in order to simulate the system, in particular we shall implement the Metropolis algorithm, which is the core of our path-generating procedure. Starting from an initial path configuration $\\{x_{1},..., x_{N}\\}^{(0)}$ (which can be either cold or hot), the code generates updates of the configurations, such that $\\{x_{i}\\}^{(k)} \\rightarrow \\{x_{i}\\}^{(k+1)}$, where $i = 1,..,N$ labels the lattice points and $k=1,..,N_{conf}$ labels the configurations. The algorithm consists of the following steps:\n",
    "\n",
    "- generate a Gaussian random number $\\delta x$, with the width of the distribution such that the average acceptance rate for the trial updates is around $50\\%$\n",
    "- propose a change of variable $x_{i}^{(k)} \\rightarrow x_{i}^{(k+1)}= x_{i}^{(k)} +\\delta x$\n",
    "- compute the change in action $\\Delta S$, using the updated variable $x_{i}^{(k+1)}$\n",
    "- accept the change with probability $P\\left(x_{i}^{(k)} \\rightarrow x_{i}^{(k+1)}\\right)=\\min\\{e^{-\\Delta S},1\\}$\n",
    "\n",
    "In this way, the proposed modifications that lower the action are always accepted. The output of this procedure is a set of $N$ paths $\\{x_{i}\\}^{(k+1)}$ distributed according to the Boltzmann distribution $e^{-S(x_{i})}$. You can iterate this process $N_{conf}$ times.\n",
    "\n",
    "The flow diagram for the Metropolis procedure is:\n",
    "\n",
    "<img src=\"flowMet2.JPG\" width=\"450\"/>\n",
    "\n",
    "\n",
    "After generating these configurations via Monte Carlo method, an arbitrary observable $\\mathcal{O}$ can be measured with a statistical uncertainty that decreases as the simulation is extended. In particular, we can compute quantum mechanical average $\\langle\\mathcal{O}\\rangle$ by averaging observables over many configurations and we can estimate their error $\\Delta\\left<\\mathcal{O}\\right>$:\n",
    "\n",
    "$$\n",
    "\\langle\\mathcal{O}\\rangle = \\lim_{N_{conf}\\to \\infty}\\frac{1}{N_{conf}}\\sum_{k=1}^{N_{conf}}\\mathcal{O}^{(k)} \\qquad \\qquad \n",
    "\\Delta\\left<\\mathcal{O}\\right>=\\sqrt{\\frac{\\left<\\mathcal{O}^2\\right>-\\left<\\mathcal{O}\\right>^2}{N_{conf}}}\n",
    "$$\n",
    "\n",
    "\n",
    "\n",
    "In this project, we shall focus on the euclidean correlation functions $\\langle\\mathcal{O}(0)O(\\tau)\\rangle $, where $\\mathcal{O(\\tau)}$ is an operator that can be constructed from the variables $x(\\tau)$, e.g. some integer power $\\mathcal{O(\\tau)}= x(\\tau)^n$. We shall study correlation functions in order to obtain the energy eigenvalues and the wave functions of the anharmonic oscillator's Hamiltonian. The described procedure is illustrated in the diagram below\n",
    "\n",
    "\n",
    "\n",
    "<img src=\"flow2.jpg\" width=\"800\"/>"
   ]
  },
  {
   "cell_type": "markdown",
   "id": "378cffe3",
   "metadata": {},
   "source": [
    "## Table of contents\n",
    "\n",
    "This project consists of six different programs:\n",
    "\n",
    "1. Exact diagonalization of the Hamiltonian $H$ of an anharmonic oscillator\n",
    "2. Path integral Monte Carlo\n",
    "3. Adiabatic switching in quantum Monte Carlo\n",
    "4. Density of instantons\n",
    "5. Instanton gas model\n",
    "6. Instanton interactions"
   ]
  },
  {
   "cell_type": "code",
   "execution_count": null,
   "id": "4ff510a2",
   "metadata": {},
   "outputs": [],
   "source": []
  }
 ],
 "metadata": {
  "kernelspec": {
   "display_name": "Python 3 (ipykernel)",
   "language": "python",
   "name": "python3"
  },
  "language_info": {
   "codemirror_mode": {
    "name": "ipython",
    "version": 3
   },
   "file_extension": ".py",
   "mimetype": "text/x-python",
   "name": "python",
   "nbconvert_exporter": "python",
   "pygments_lexer": "ipython3",
   "version": "3.10.2"
  }
 },
 "nbformat": 4,
 "nbformat_minor": 5
}
