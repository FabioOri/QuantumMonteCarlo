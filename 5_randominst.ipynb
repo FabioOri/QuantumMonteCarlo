{
 "cells": [
  {
   "cell_type": "markdown",
   "id": "227c5bb8",
   "metadata": {},
   "source": [
    "# Random instanton approximation\n",
    "The programme studies the _random instanton approximation_, also known as _instanton gas model_, in which we consider an ensemble of instanton configurations with negligible instanton interactions. The partition function of such a system is given by:\n",
    "\n",
    "$$\n",
    "Z=\\sum_{n_I, n_A}\\frac{\\delta_{n_I,\\, n_A}}{n_I!\\, n_A!}\\left(\\prod_i\\int d\\tau_i\\right)e^{-S_0}\n",
    "$$\n",
    "\n",
    "where $n_I$, $n_A$ are the number of instantons and anti-instantons (the $\\delta$-function enforces $n_I=n_A$ as it should be classically), $\\tau_i$ are the instanton and anti-instanton positions, and $S_0$ is the classical action.\n",
    "\n",
    "Input parameters, with default values:\n",
    "- potential parameters: $\\lambda=1$, $\\eta=1.4$\n",
    "- mass of the particle: $m=0.5$\n",
    "- number of lattice points: $N=800$\n",
    "- lattice spacing: $a=0.05$\n",
    "- number of Metropolis sweeps: $N_{sweeps}=100$\n",
    "- number of instantons in the sum ansatz: $N_{in}$, computed from the semiclassical approximation\n",
    "- number of heating steps: $N_{heat}=10$"
   ]
  },
  {
   "cell_type": "code",
   "execution_count": 1,
   "id": "077fc25b",
   "metadata": {},
   "outputs": [],
   "source": [
    "import matplotlib.pyplot as plt\n",
    "import numpy as np\n",
    "from numpy import linalg as LA\n",
    "from numpy import diff\n",
    "import math\n",
    "import random\n",
    "from tqdm.notebook import tqdm\n",
    "from mpl_toolkits import mplot3d\n",
    "from matplotlib import cm"
   ]
  },
  {
   "cell_type": "code",
   "execution_count": 2,
   "id": "8077bdef",
   "metadata": {},
   "outputs": [
    {
     "name": "stdout",
     "output_type": "stream",
     "text": [
      "lambda = \n",
      "eta = \n",
      "m = \n"
     ]
    }
   ],
   "source": [
    "# Parameters of the potential\n",
    "Lambda = float(input(\"lambda = \") or 1)\n",
    "eta = float(input(\"eta = \") or 1.4)\n",
    "m = float(input(\"m = \") or 1/2)\n",
    "hbar = 1;"
   ]
  },
  {
   "cell_type": "code",
   "execution_count": 3,
   "id": "b591a2a0",
   "metadata": {
    "scrolled": false
   },
   "outputs": [
    {
     "name": "stdout",
     "output_type": "stream",
     "text": [
      "N = \n",
      "a = \n",
      "Nsweeps = \n"
     ]
    }
   ],
   "source": [
    "# Lattice parameters\n",
    "N = int(input(\"N = \") or 800)\n",
    "a = float(input(\"a = \") or 0.05)\n",
    "Nsweeps = int(input(\"Nsweeps = \") or 100)"
   ]
  },
  {
   "cell_type": "markdown",
   "id": "0fc1cdfd",
   "metadata": {},
   "source": [
    "### Estimate of the number of instantons\n",
    "To get a rough estimate of the number of instantons to be constructed, we can exploit the semiclassical approximation, which gives the instanton density $n_{I+A}$ (where $\\beta n_I= N_{in}$) as a function of $\\eta$ and works quite well for values of $\\eta \\gtrsim 1$:\n",
    "\n",
    "$$\n",
    "n_{I+A}=8\\eta^{\\frac{5}{2}}\\sqrt{\\frac{2}{\\pi}}\\ \\exp{\\left(-S_0-\\frac{71}{72S_0}\\right)}\\qquad\\mbox{where}\\qquad\n",
    "S_0=\\frac{4\\eta^3}{3}\n",
    "$$\n",
    "\n",
    "The default value comes from the two-loop estimate of $n_{I+A}$."
   ]
  },
  {
   "cell_type": "code",
   "execution_count": 4,
   "id": "cca5b87e",
   "metadata": {},
   "outputs": [
    {
     "name": "stdout",
     "output_type": "stream",
     "text": [
      "One-loop estimate: Nin = 15\n",
      "Two-loop estimate: Nin = 12\n",
      "Nin = \n"
     ]
    }
   ],
   "source": [
    "# Number of instantons, semiclassical estimate\n",
    "S0 = 4*eta**3/3\n",
    "instdens1 = 8*np.sqrt(2/np.pi)*eta**2.5*np.exp(-S0)           # One-loop\n",
    "instdens2 = instdens1*np.exp(-71/(72*S0))                     # Two-loop\n",
    "\n",
    "beta = N*a                     # Total euclidean time\n",
    "Nin1 = instdens1*beta\n",
    "Nin2 = instdens2*beta\n",
    "\n",
    "Nin_exp1 = round(Nin1)          # Expected number of instantons\n",
    "Nin_exp2 = round(Nin2)\n",
    "\n",
    "print('One-loop estimate: Nin = '+str(Nin_exp1))\n",
    "print('Two-loop estimate: Nin = '+str(Nin_exp2))\n",
    "\n",
    "Nin = int(input(\"Nin = \") or Nin_exp2)"
   ]
  },
  {
   "cell_type": "markdown",
   "id": "7132725d",
   "metadata": {},
   "source": [
    "## Exact diagonalization\n",
    "We repeat here the procedure of exact diagonalization for comparison with the other data."
   ]
  },
  {
   "cell_type": "code",
   "execution_count": 5,
   "id": "25fa5cba",
   "metadata": {},
   "outputs": [],
   "source": [
    "Ngrid = N\n",
    "xmin = -5\n",
    "xmax = 5\n",
    "xvec = np.linspace(xmin, xmax, Ngrid)\n",
    "\n",
    "# Initialization of the parameters\n",
    "H = np.zeros((Ngrid, Ngrid))               # Hamiltonian matrix\n",
    "\n",
    "w0 = 4*eta                                 # Frequency of the harmonic oscillator\n",
    "B = -2*eta**2 - w0**2/4\n",
    "C = eta**4\n",
    "c = 1/(np.sqrt(w0))\n",
    "\n",
    "# Build up H matrix for the anharmonic oscillator \n",
    "for n in range(Ngrid): \n",
    "    H[n, n] = 3*c**4*((n+1)**2+n**2) + B*c**2*(2*n+1) + w0*(n+0.5) + C                         # Matrix element <n|H|n>\n",
    "    \n",
    "for n in range(Ngrid-2):\n",
    "    H[n, n+2] = H[n+2, n]= c**4*(4*n+6)*np.sqrt((n+1)*(n+2)) + B*c**2*np.sqrt((n+1)*(n+2))     # Matrix element <n|H|n+2>\n",
    "    \n",
    "for n in range(Ngrid-4):\n",
    "    H[n, n+4] = H[n+4, n] = c**4*np.sqrt((n+1)*(n+2)*(n+3)*(n+4))                              # Matrix element <n|H|n+4>\n",
    "    \n",
    "w, v = LA.eig(H)              # Diagonalizing the H matrix\n",
    "\n",
    "sortinds = np.argsort(w)      # Returns the indices that would sort the array w\n",
    "EigVals = w[sortinds]         # Eigenvalues sorting\n",
    "EigVecs = v[:,sortinds]       # Corresponding eigenvectors sorting"
   ]
  },
  {
   "cell_type": "code",
   "execution_count": 6,
   "id": "d97e5d16",
   "metadata": {},
   "outputs": [
    {
     "data": {
      "application/vnd.jupyter.widget-view+json": {
       "model_id": "",
       "version_major": 2,
       "version_minor": 0
      },
      "text/plain": [
       "  0%|          | 0/800 [00:00<?, ?it/s]"
      ]
     },
     "metadata": {},
     "output_type": "display_data"
    }
   ],
   "source": [
    "# Function that evaluates the bracket in the expression for correlators G\n",
    "def Compute_xvalues(v):\n",
    "    w = 4*eta                        # Frequency of the corresponding harmonic oscillator\n",
    "    rho = np.zeros((N, 3))           # Initialize the density of states\n",
    "    \n",
    "    for n in tqdm(range(N), leave = False):         # Loop over all lattice points\n",
    "        cn = 0\n",
    "        dn = 0\n",
    "        en = 0\n",
    "        \n",
    "        for k in range(50):          # The first 50 eigenvalues are enough\n",
    "            km3 = max(k-3, 0)        # Conditions to ensure that the square roots exist\n",
    "            km2 = max(k-2, 0)\n",
    "            km1 = max(k-1, 0)\n",
    "            kp1 = min(k+1, N-1)\n",
    "            kp2 = min(k+2, N-1)\n",
    "            kp3 = min(k+3, N-1)\n",
    "            \n",
    "            # Expressions coming from analytic computation of the braket\n",
    "            cn = cn + ( np.sqrt(k)*v[km1, 0] + np.sqrt(k+1)*v[kp1, 0] )*v[k, n]\n",
    "            dn = dn + ( np.sqrt(k*(k-1))*v[km2, 0] + (2*k+1)*v[k, 0] + np.sqrt((k+1)*(k+2))*v[kp2, 0] )*v[k, n]\n",
    "            en = en + ( np.sqrt(k*(k-1)*(k-2))*v[km3, 0] + 3*k*np.sqrt(k)*v[km1, 0] + 3*(k+1)*np.sqrt(k+1)*v[kp1, 0] \\\n",
    "                    + np.sqrt((k+1)*(k+2)*(k+3))*v[kp3, 0] )*v[k, n]\n",
    "            \n",
    "        rho[n, 0] = 1/(m*w)/2*cn**2\n",
    "        rho[n, 1] = 1/(m*w)**2/4*dn**2\n",
    "        rho[n, 2] = 1/(m*w)**3/8*en**2\n",
    "        \n",
    "    return rho\n",
    "            \n",
    "\n",
    "# Function that evaluates the two-point correlation function from exact diagonalization\n",
    "G_exact = np.zeros((N, 3))             # Here Ncf = 3 for simplicity\n",
    "rho = Compute_xvalues(EigVecs)\n",
    "\n",
    "tau_vec = np.linspace(0, N*a, N)       # Total euclidean time obtained from lattice spacing a and from N\n",
    "    \n",
    "for n in range(N):\n",
    "    for k in range(50):                # 50 eigenvalues are enough\n",
    "        for j in range(3):\n",
    "            G_exact[n, j] = G_exact[n, j] + rho[k, j] * np.exp(-(EigVals[k]-EigVals[0])*tau_vec[n])  "
   ]
  },
  {
   "cell_type": "markdown",
   "id": "2871e287",
   "metadata": {},
   "source": [
    "## Sum ansatz\n",
    "The simplest multi-instanton configuration to start with is the following sum ansatz:\n",
    "\n",
    "$$\n",
    "x_{sum}(\\tau)=\\eta\\left\\{\\sum_i Q_i\\tanh{\\left[\\frac{\\omega}{2}(\\tau-\\tau_i)\\right]}-1\\right\\}\n",
    "$$\n",
    "\n",
    "where $Q_i$ is the topological charge of the instanton, which we will set $Q_i\\equiv 1$, and $\\tau_i$ is its centre. We generate a random sum ansatz by setting the instanton positions as $z_j=r_j\\beta$, where $r_j$ is a random number, $j=1,\\dots,N_{in}$, and $\\beta=Na$ is the total euclidean time. The $z$ vector is then ordered such that $z_j<z_h$ for $j<h$, to reproduce the correct form of the path."
   ]
  },
  {
   "cell_type": "code",
   "execution_count": 7,
   "id": "dd528141",
   "metadata": {},
   "outputs": [],
   "source": [
    "# Fixing the instanton positions randomly\n",
    "def setup(Nin, z, beta):    \n",
    "    for j in range(Nin):\n",
    "        z[j] = random.random()*beta     # Random instanton positions collected in vector z "
   ]
  },
  {
   "cell_type": "markdown",
   "id": "752087dd",
   "metadata": {},
   "source": [
    "The sum ansatz is then built by introducing an instanton anti-instanton pair every two values among the integers less or equal to $N_{in}$, starting from the initial value $x_{sum}(\\tau)=-\\eta$ given by the formula above. Taking $\\omega=4\\eta$ as usual, we get:\n",
    "\n",
    "$$\n",
    "x_{sum}(\\tau)=\\eta\\left\\{\\sum_i \\tanh{\\left[2\\eta(\\tau-\\tau_i)\\right]}-1\\right\\} = \\eta\\left\\{\\sum_{j=1}^{\\frac{1}{2}[N_{in}]} \\tanh{\\left[2\\eta\\left(\\tau-z_{2j-1}\\right)\\right]}-\\tanh{\\left[2\\eta\\left(\\tau-z_{2j}\\right)\\right]}-1\\right\\}\n",
    "$$\n",
    "\n",
    "where $[\\, \\cdot\\, ]$ is the integer part function. If $N_{in}$ is odd, an extra term needs to be included not to neglect the last instanton:\n",
    "\n",
    "$$\n",
    "x_{added} = \\eta\\tanh{\\left[2\\eta\\left(\\tau-z_{N_{in}}\\right)\\right]} + \\eta\n",
    "$$"
   ]
  },
  {
   "cell_type": "code",
   "execution_count": 8,
   "id": "419c01dd",
   "metadata": {},
   "outputs": [],
   "source": [
    "# Function that generates the sum ansatz\n",
    "def sum_ans(Nin, z, eta, t):\n",
    "    eta = 1.4\n",
    "    Neven = Nin - Nin%2          # Taking only half of Nin values\n",
    "    xsum = -eta                  # Initial value for sum ansatz\n",
    "    \n",
    "    for j in range(1, Neven, 2):                                                      # Loop every two values of j\n",
    "        xsum = xsum + eta*np.tanh(2*eta*(t-z[j-1])) - eta*np.tanh(2*eta*(t-z[j]))       # Building the ansatz\n",
    "    \n",
    "    if Nin%2 != 0:\n",
    "        xsum = xsum + eta*np.tanh(2*eta*(t-z[Nin-1])) + eta                             # Added term\n",
    "    \n",
    "    return xsum"
   ]
  },
  {
   "cell_type": "markdown",
   "id": "fce1907d",
   "metadata": {},
   "source": [
    "### Sample plot\n",
    "The following code returns an example of random sum ansatz."
   ]
  },
  {
   "cell_type": "code",
   "execution_count": 9,
   "id": "1f4c9914",
   "metadata": {
    "scrolled": true
   },
   "outputs": [
    {
     "data": {
      "image/png": "[encoded data removed]",
      "text/plain": [
       "<Figure size 720x360 with 1 Axes>"
      ]
     },
     "metadata": {
      "needs_background": "light"
     },
     "output_type": "display_data"
    }
   ],
   "source": [
    "# Building a random sum ansatz\n",
    "z = np.zeros(Nin);                         # Instanton positions\n",
    "x = np.zeros(N);                           # Position vector\n",
    "\n",
    "setup(Nin, z, beta)\n",
    "z = sorted(z)                              # Sorting the instanton positions\n",
    "    \n",
    "for j in range(N):\n",
    "    xt = a*j                               # Euclidean time lattice points\n",
    "    x[j] = sum_ans(Nin, z, eta, xt)        # Corresponding value for the sum ansatz\n",
    "\n",
    "tau_vec = np.linspace(0, N*a, N)           # Total euclidean time obtained from lattice spacing a and from N\n",
    "\n",
    "# Plotting the instanton configuration\n",
    "fig, ax = plt.subplots(figsize = (10,5))\n",
    "ax.plot(tau_vec, x)\n",
    "ax.set_xlabel('$\\\\tau$')\n",
    "ax.set_ylabel('$x(\\\\tau)$')\n",
    "plt.xlim([0, 40])\n",
    "plt.ylim([min(x), max(x)])\n",
    "plt.grid(linewidth = 0.5)\n",
    "plt.title('Sum ansatz for $\\eta =$' + str(eta));"
   ]
  },
  {
   "cell_type": "markdown",
   "id": "cbcdd509",
   "metadata": {},
   "source": [
    "### Correlation functions computation\n",
    "The correlations functions can be computed as in Monte Carlo simulations, though considering as configurations the random sum ansatz described before. Each sweep consists then in generating a random sum ansatz, with a fixed instanton number, and evaluating the corresponding correlation functions, which are then averaged over configurations as usual."
   ]
  },
  {
   "cell_type": "code",
   "execution_count": 14,
   "id": "873b27ca",
   "metadata": {},
   "outputs": [
    {
     "name": "stdout",
     "output_type": "stream",
     "text": [
      "Number of correlation functions = \n"
     ]
    },
    {
     "data": {
      "application/vnd.jupyter.widget-view+json": {
       "model_id": "",
       "version_major": 2,
       "version_minor": 0
      },
      "text/plain": [
       "  0%|          | 0/100 [00:00<?, ?it/s]"
      ]
     },
     "metadata": {},
     "output_type": "display_data"
    }
   ],
   "source": [
    "Ncf = int(input(\"Number of correlation functions = \") or 3)\n",
    "\n",
    "def computeG2(x, dtau, t):\n",
    "    g = 0                                      # Initialize the value of the correlation function\n",
    "    for j in range(N):\n",
    "        g = g + (x[j]**t)*(x[(j+dtau)%N]**t)   # Add all the terms satisfying the above condition for J\n",
    "    return g/N\n",
    "\n",
    "def MCaverage(x):\n",
    "    G = np.zeros((Nsweeps, N, Ncf))            # Initialize the value of the two-point correlation function\n",
    "    G1 = np.zeros((Nsweeps, N, Ncf))           # Initialize the value of the one-point correlation function\n",
    "    \n",
    "    for k in tqdm(range(Nsweeps), leave = False):\n",
    "        \n",
    "        # Generating the sum ansatz as before #############################################################\n",
    "        \n",
    "        z = np.zeros(Nin)\n",
    "        x = np.zeros(N)\n",
    "\n",
    "        setup(Nin, z, beta)\n",
    "        z = sorted(z)\n",
    "\n",
    "        for j in range(N):\n",
    "            xt = a*j\n",
    "            x[j] = sum_ans(Nin, z, eta, xt)\n",
    "        \n",
    "        ####################################################################################################\n",
    "\n",
    "        for t in range(Ncf):                   # Evaluate correlation functions of order t = 1, 2, ..., Ncf\n",
    "            for n in range(N):\n",
    "                G[k, n, t] = computeG2(x, n, t+1)\n",
    "                G1[k, n, t] = x[n]**t/N\n",
    "\n",
    "    avg_G = np.zeros((N, Ncf))                 # Initialize the value of the average\n",
    "    avg_G1 = np.zeros((N, Ncf))                            # (both for one- and two-point correlation functions)\n",
    "    \n",
    "    for n in range(N):                         # Compute the Monte Carlo average for each order t\n",
    "        for t in range(Ncf):\n",
    "            for k in range(Nsweeps):\n",
    "                avg_G[n, t] = avg_G[n, t] + G[k, n, t]           # Two-point correlation function\n",
    "                avg_G1[n, t] = avg_G1[n, t] + G1[k, n, t]        # One-point correlation function\n",
    "    avg_G = avg_G / Nsweeps\n",
    "    avg_G1 = avg_G1 / Nsweeps\n",
    "        \n",
    "    return avg_G, avg_G1\n",
    "\n",
    "# Computing the first Ncf correlation functions\n",
    "G_two, G_one = MCaverage(x)\n",
    "\n",
    "deltaG = np.sqrt(np.abs(G_two-np.power(G_one, 2)) / Nsweeps);          # Statistical error"
   ]
  },
  {
   "cell_type": "code",
   "execution_count": 15,
   "id": "3fd73519",
   "metadata": {},
   "outputs": [
    {
     "data": {
      "image/png": "[encoded data removed]",
      "text/plain": [
       "<Figure size 720x360 with 1 Axes>"
      ]
     },
     "metadata": {
      "needs_background": "light"
     },
     "output_type": "display_data"
    }
   ],
   "source": [
    "# Plotting the correlation functions\n",
    "fig, ax = plt.subplots(figsize = (10,5))\n",
    "\n",
    "for i in range(Ncf):\n",
    "    ax.plot(tau_vec, G_two[:,i], 'o', label = 't = ' + str(i+1))\n",
    "    plt.errorbar(tau_vec, G_two[:,i], yerr = deltaG[:,i], xerr = None, fmt = 'None', ecolor = 'black')\n",
    "    \n",
    "ax. plot(tau_vec, G_exact[:,0], color = 'blue')\n",
    "ax. plot(tau_vec, G_exact[:,1], color = 'orange')\n",
    "ax. plot(tau_vec, G_exact[:,2], color = 'green')\n",
    "\n",
    "ax.set_xlabel('$\\\\tau$');\n",
    "ax.set_ylabel('$G_t(x,\\Delta\\\\tau)$')\n",
    "plt.xlim([0, 1.5])\n",
    "plt.ylim([np.min(G_two), 8])\n",
    "plt.grid(linewidth = 0.5)\n",
    "plt.title('Correlation functions of order $t$ for $\\eta =$' + str(eta));\n",
    "plt.legend()\n",
    "plt.show()"
   ]
  },
  {
   "cell_type": "code",
   "execution_count": 18,
   "id": "4f9960cf",
   "metadata": {},
   "outputs": [
    {
     "data": {
      "image/png": "[encoded data removed]",
      "text/plain": [
       "<Figure size 720x360 with 1 Axes>"
      ]
     },
     "metadata": {
      "needs_background": "light"
     },
     "output_type": "display_data"
    }
   ],
   "source": [
    "# Function that computes the logarithmic derivative of a vector\n",
    "def logder(x):\n",
    "    \n",
    "    for i in range(len(x)):          # Avoid numerical errors in the unimportant parts of vector x\n",
    "        if x[i] <= 0:\n",
    "            x[i] = 1e-10\n",
    "    \n",
    "    logx = np.log(x)\n",
    "    logder = - diff(logx) / a\n",
    "    logder = np.append(logder, 0)    # The length must be the same as the one of vector tau\n",
    "                                     # (what appears at the end has no importance)\n",
    "    return logder\n",
    "\n",
    "\n",
    "# Plotting the logarithmic derivative of the correlation functions\n",
    "fig, ax = plt.subplots(figsize = (10,5))\n",
    "\n",
    "for i in range(0, Ncf, 2):\n",
    "    ax.plot(tau_vec, logder(np.abs(G_two[:,i])), 'o', label = 't = ' + str(i+1))\n",
    "    \n",
    "    logG_err = np.zeros((N,3))\n",
    "    for j in range(N-1):\n",
    "        logG_err[j,i] = np.square(deltaG[j+1,i] / G_two[j,i]) + np.square(deltaG[j,i]*G_two[j+1,i] / np.square(G_two[j,i]))\n",
    "        logG_err[j,i] = np.sqrt(logG_err[j,i])\n",
    "\n",
    "    plt.errorbar(tau_vec, logder(np.abs(G_two[:,i])), yerr = logG_err[:,i], xerr = None, fmt = 'None', ecolor = 'black')\n",
    "    \n",
    "G_exact_sub = G_exact[:,1] - rho[0,1]            # Subtraction constant for exact correlation function\n",
    "\n",
    "ax. plot(tau_vec, logder(np.abs(G_exact[:,0])), color = 'blue')\n",
    "ax. plot(tau_vec, logder(np.abs(G_exact_sub)), color = 'green')        # Subtracted one\n",
    "ax. plot(tau_vec, logder(np.abs(G_exact[:,2])), color = 'orange')\n",
    "\n",
    "# Even-order correlation function with constant value subtracted\n",
    "Gsub = G_two[:,1] - np.power(G_two[N-1,0], 2)\n",
    "Gsub_err = np.sqrt(np.square(deltaG[:,1]) + np.square(2*G_two[N-1,0]*deltaG[N-1,0]))     # Error propagation\n",
    "\n",
    "# Computing the errors of the logarithmic derivative\n",
    "logG_err = np.zeros(N)\n",
    "for j in range(N-1):\n",
    "    logG_err[j] = np.square(Gsub_err[j+1] / Gsub[j]) + np.square(Gsub_err[j]*Gsub[j+1] / np.square(Gsub[j]))\n",
    "    logG_err[j] = np.sqrt(logG_err[j])\n",
    "    \n",
    "# Plotting the subtracted correlation function\n",
    "Nkeep = 15                         # Number of points to be kept for the subtracted correlation function\n",
    "tau_vecS = tau_vec[:Nkeep]\n",
    "logderS = logder(np.abs(Gsub))\n",
    "logderS = logderS[:Nkeep]\n",
    "logG_errS = logG_err[:Nkeep]\n",
    "\n",
    "# Plotting the subtracted correlation function\n",
    "ax.plot(tau_vecS, logderS, 'o', label = 't = 2 (sub)')\n",
    "plt.errorbar(tau_vecS, logderS, logG_errS, xerr = None, fmt = 'None', ecolor = 'black')\n",
    "\n",
    "ax.set_xlabel('$\\\\tau$')\n",
    "ax.set_ylabel('Logarithmic derivative of $G_t(x,\\Delta\\\\tau)$')\n",
    "plt.xlim([0, 1.5])\n",
    "plt.ylim([-1, 5])\n",
    "plt.grid(linewidth = 0.5)\n",
    "plt.title('Logarithmic derivative of correlation functions for $\\eta =$' + str(eta));\n",
    "plt.legend()\n",
    "plt.show()"
   ]
  },
  {
   "cell_type": "markdown",
   "id": "a67733f8",
   "metadata": {},
   "source": [
    "## Heating\n",
    "We now aim at including quantum fluctuations; in order to do so numerically, we exploit the _heating_ method, which is the inverse of the cooling one. Starting from the classical path (sum ansatz) we determine the Gaussian effective potential for small fluctuations around the path; for a single instanton, the action is given by:\n",
    "\n",
    "$$\n",
    "S=\\int d\\tau \\left\\{\\frac{1}{4}\\delta\\dot{x}^2(\\tau)+4\\eta^2\\left[1-\\frac{3}{2\\cosh^2{[2\\eta(\\tau-\\tau_i)]}}\\right]\\delta x^2(\\tau)\\right\\}\n",
    "$$"
   ]
  },
  {
   "cell_type": "markdown",
   "id": "014f51c0",
   "metadata": {},
   "source": [
    "### Sample path\n",
    "The following code produces a sample path with Gaussian fluctuations included. Starting from the sum ansatz $x(\\tau)$, we perform a Metropolis update which gives $x_{hot}(\\tau)$; the Gaussian effective potential is then included in the action as follows:\n",
    "\n",
    "$$\n",
    "S = S_0[x_{hot}] + \\sum_j \\frac{1}{2}a\\, w_j\\, (x_{hot,\\, j}-x_j)^2\\qquad\\mbox{where}\\qquad w_j = -4\\left(\\eta^2-3x_j^2\\right)\n",
    "$$\n",
    "\n",
    "As in the previous cases, we can consider here only $j$-dependent terms when evaluating the action."
   ]
  },
  {
   "cell_type": "code",
   "execution_count": 19,
   "id": "78d1011f",
   "metadata": {},
   "outputs": [],
   "source": [
    "# Function that evaluates the action of a given configuration considering only j-dependent terms\n",
    "def S(j, x, eta, w, x_hot):\n",
    "    \n",
    "    if j == N-1:\n",
    "        Action = ((x_hot[j]-x_hot[j-1])**2 + (x_hot[0]-x_hot[j])**2)/(4*a)\n",
    "    else:\n",
    "        Action = ((x_hot[j]-x_hot[j-1])**2 + (x_hot[j+1]-x_hot[j])**2)/(4*a)\n",
    "    \n",
    "    Action = Action + a*0.5*w[j]*(x_hot[j] - x[j])**2\n",
    "    \n",
    "    return Action"
   ]
  },
  {
   "cell_type": "code",
   "execution_count": 20,
   "id": "93809980",
   "metadata": {},
   "outputs": [
    {
     "name": "stdout",
     "output_type": "stream",
     "text": [
      "epsilon = \n"
     ]
    }
   ],
   "source": [
    "eps = float(input(\"epsilon = \") or 0.5)\n",
    "\n",
    "# Function that updates x according to Metropolis algorithm\n",
    "def update(y, w, x_hot):\n",
    "    for j in range(N):\n",
    "        old_x = x_hot[j]                                 # Save the original values\n",
    "        old_Sj = S(j, y, eta, w, x_hot)\n",
    "        x_hot[j] = x_hot[j] + random.gauss(0, eps)       # Update x[j]\n",
    "        dS = S(j, y, eta, w, x_hot) - old_Sj             # Change in action\n",
    "        if np.exp(-dS) < random.random():                # Metropolis acceptance criterium\n",
    "            x_hot[j] = old_x                             # Restore the old value in case the condition is not satisfied"
   ]
  },
  {
   "cell_type": "code",
   "execution_count": 11,
   "id": "5286e512",
   "metadata": {
    "scrolled": true
   },
   "outputs": [
    {
     "name": "stdout",
     "output_type": "stream",
     "text": [
      "Nheating = \n"
     ]
    },
    {
     "data": {
      "application/vnd.jupyter.widget-view+json": {
       "model_id": "9c5abcc0c63b4fb89bdf8791eec168f1",
       "version_major": 2,
       "version_minor": 0
      },
      "text/plain": [
       "  0%|          | 0/10 [00:00<?, ?it/s]"
      ]
     },
     "metadata": {},
     "output_type": "display_data"
    },
    {
     "ename": "NameError",
     "evalue": "name 'update' is not defined",
     "output_type": "error",
     "traceback": [
      "\u001b[1;31m---------------------------------------------------------------------------\u001b[0m",
      "\u001b[1;31mNameError\u001b[0m                                 Traceback (most recent call last)",
      "Input \u001b[1;32mIn [11]\u001b[0m, in \u001b[0;36m<cell line: 23>\u001b[1;34m()\u001b[0m\n\u001b[0;32m     24\u001b[0m     x_hot \u001b[38;5;241m=\u001b[39m x\n\u001b[0;32m     25\u001b[0m     w \u001b[38;5;241m=\u001b[39m \u001b[38;5;241m-\u001b[39m\u001b[38;5;241m4\u001b[39m\u001b[38;5;241m*\u001b[39m(eta\u001b[38;5;241m*\u001b[39m\u001b[38;5;241m*\u001b[39m\u001b[38;5;241m2\u001b[39m\u001b[38;5;241m-\u001b[39m\u001b[38;5;241m3\u001b[39m\u001b[38;5;241m*\u001b[39mx\u001b[38;5;241m*\u001b[39m\u001b[38;5;241m*\u001b[39m\u001b[38;5;241m2\u001b[39m)\n\u001b[1;32m---> 26\u001b[0m     \u001b[43mupdate\u001b[49m(x, w, x_hot)                          \u001b[38;5;66;03m# Heating steps through Metropolis algorithm\u001b[39;00m\n\u001b[0;32m     28\u001b[0m \u001b[38;5;66;03m# Plotting the quantum fluctuations\u001b[39;00m\n\u001b[0;32m     29\u001b[0m ax\u001b[38;5;241m.\u001b[39mplot(tau_vec, x_hot, linewidth \u001b[38;5;241m=\u001b[39m \u001b[38;5;241m1\u001b[39m, label \u001b[38;5;241m=\u001b[39m \u001b[38;5;124m'\u001b[39m\u001b[38;5;124mGaussian heating\u001b[39m\u001b[38;5;124m'\u001b[39m)\n",
      "\u001b[1;31mNameError\u001b[0m: name 'update' is not defined"
     ]
    },
    {
     "data": {
      "image/png": "[encoded data removed]",
      "text/plain": [
       "<Figure size 720x360 with 1 Axes>"
      ]
     },
     "metadata": {
      "needs_background": "light"
     },
     "output_type": "display_data"
    }
   ],
   "source": [
    "Nheat = int(input(\"Nheating = \") or 10)\n",
    "\n",
    "# Random sum ansatz\n",
    "z = np.zeros(Nin)\n",
    "x = np.zeros(N)\n",
    "\n",
    "setup(Nin, z, beta)\n",
    "z = sorted(z)\n",
    "    \n",
    "for j in range(N):\n",
    "    xt = a*j\n",
    "    x[j] = sum_ans(Nin, z, eta, xt)\n",
    "\n",
    "tau_vec = np.linspace(0, N*a, N)             # Total euclidean time obtained from lattice spacing a and from N\n",
    "\n",
    "\n",
    "# Plotting the classical instanton configuration\n",
    "fig, ax = plt.subplots(figsize = (10,5))\n",
    "ax.plot(tau_vec, x, linewidth = 2, label = 'RILM')\n",
    "\n",
    "\n",
    "# Heating\n",
    "for h in tqdm(range(Nheat), leave = False):\n",
    "    x_hot = x\n",
    "    w = -4*(eta**2-3*x**2)\n",
    "    update(x, w, x_hot)                          # Heating steps through Metropolis algorithm\n",
    "\n",
    "# Plotting the quantum fluctuations\n",
    "ax.plot(tau_vec, x_hot, linewidth = 1, label = 'Gaussian heating')\n",
    "ax.set_xlabel('$\\\\tau$')\n",
    "ax.set_ylabel('$x(\\\\tau)$')\n",
    "plt.xlim([0, 40])\n",
    "plt.ylim([min(x), max(x)])\n",
    "plt.grid(linewidth = 0.5)\n",
    "plt.title('Sum ansatz with Gaussian fluctuations for $\\eta =$' + str(eta));\n",
    "plt.legend()\n",
    "plt.show()"
   ]
  },
  {
   "cell_type": "markdown",
   "id": "e313765e",
   "metadata": {},
   "source": [
    "### Gaussian effective potential\n",
    "The following code plots the Gaussian effective potential written above, with $\\tau_i\\equiv 0$, after $N_{heat}$ reheating sweeps."
   ]
  },
  {
   "cell_type": "code",
   "execution_count": 10,
   "id": "7905f325",
   "metadata": {},
   "outputs": [
    {
     "ename": "NameError",
     "evalue": "name 'Nheat' is not defined",
     "output_type": "error",
     "traceback": [
      "\u001b[1;31m---------------------------------------------------------------------------\u001b[0m",
      "\u001b[1;31mNameError\u001b[0m                                 Traceback (most recent call last)",
      "Input \u001b[1;32mIn [10]\u001b[0m, in \u001b[0;36m<cell line: 22>\u001b[1;34m()\u001b[0m\n\u001b[0;32m     19\u001b[0m     xt \u001b[38;5;241m=\u001b[39m a\u001b[38;5;241m*\u001b[39mj                               \u001b[38;5;66;03m# Euclidean time lattice points\u001b[39;00m\n\u001b[0;32m     20\u001b[0m     x[j] \u001b[38;5;241m=\u001b[39m sum_ans(Nin, z, eta, xt)  \n\u001b[1;32m---> 22\u001b[0m \u001b[38;5;28;01mfor\u001b[39;00m h \u001b[38;5;129;01min\u001b[39;00m tqdm(\u001b[38;5;28mrange\u001b[39m(\u001b[43mNheat\u001b[49m), leave \u001b[38;5;241m=\u001b[39m \u001b[38;5;28;01mFalse\u001b[39;00m):\n\u001b[0;32m     23\u001b[0m     x_hot \u001b[38;5;241m=\u001b[39m x\n\u001b[0;32m     24\u001b[0m     w\u001b[38;5;241m=\u001b[39m \u001b[38;5;241m-\u001b[39m\u001b[38;5;241m4\u001b[39m\u001b[38;5;241m*\u001b[39m(eta\u001b[38;5;241m*\u001b[39m\u001b[38;5;241m*\u001b[39m\u001b[38;5;241m2\u001b[39m\u001b[38;5;241m-\u001b[39m\u001b[38;5;241m3\u001b[39m\u001b[38;5;241m*\u001b[39mx\u001b[38;5;241m*\u001b[39m\u001b[38;5;241m*\u001b[39m\u001b[38;5;241m2\u001b[39m)  \n",
      "\u001b[1;31mNameError\u001b[0m: name 'Nheat' is not defined"
     ]
    },
    {
     "data": {
      "image/png": "[encoded data removed]",
      "text/plain": [
       "<Figure size 720x720 with 1 Axes>"
      ]
     },
     "metadata": {
      "needs_background": "light"
     },
     "output_type": "display_data"
    }
   ],
   "source": [
    "fig = plt.figure(figsize=(10,10))\n",
    "ax = plt.axes(projection = '3d')\n",
    "\n",
    "xvec = np.linspace(-3, 3, 100)\n",
    "tvec = np.linspace(-0.5, 0.5, 100)\n",
    "\n",
    "# Gaussian effective potential, from action principle\n",
    "def f(X, T, Ti):\n",
    "    return 4*eta**2*(1-3/(2*(np.cosh(2*eta*(T-Ti)))**2))*X**2\n",
    "\n",
    "# Heating the classical path\n",
    "z = np.zeros(Nin)                          # Instanton positions\n",
    "x = np.zeros(N)                            # Position vector\n",
    "\n",
    "setup(Nin, z, beta)\n",
    "z = sorted(z)                              # Sorting the instanton positions\n",
    "    \n",
    "for j in range(N):\n",
    "    xt = a*j                               # Euclidean time lattice points\n",
    "    x[j] = sum_ans(Nin, z, eta, xt)  \n",
    "    \n",
    "for h in tqdm(range(Nheat), leave = False):\n",
    "    x_hot = x\n",
    "    w= -4*(eta**2-3*x**2)  \n",
    "    update(x, w, x_hot) \n",
    "\n",
    "X, T = np.meshgrid(x_hot, tvec)\n",
    "V = f(X, T, 0)                      # The instanton is centred around zero\n",
    "\n",
    "ax.plot_surface(X, T, V, cmap = 'viridis')\n",
    "ax.set_xlabel('$x$')\n",
    "ax.set_ylabel('$\\\\tau$')\n",
    "ax.set_zlabel('$V(x,\\\\tau)$')\n",
    "plt.title('Gaussian effective potential');\n",
    "ax.view_init(25, 60)"
   ]
  },
  {
   "cell_type": "markdown",
   "id": "1a2422c4",
   "metadata": {},
   "source": [
    "### Correlation functions and logarithmic derivatives\n",
    "The correlation functions can be now evaluated including quantum fluctuations."
   ]
  },
  {
   "cell_type": "code",
   "execution_count": 23,
   "id": "98c71333",
   "metadata": {},
   "outputs": [
    {
     "data": {
      "application/vnd.jupyter.widget-view+json": {
       "model_id": "",
       "version_major": 2,
       "version_minor": 0
      },
      "text/plain": [
       "  0%|          | 0/100 [00:00<?, ?it/s]"
      ]
     },
     "metadata": {},
     "output_type": "display_data"
    },
    {
     "data": {
      "application/vnd.jupyter.widget-view+json": {
       "model_id": "",
       "version_major": 2,
       "version_minor": 0
      },
      "text/plain": [
       "  0%|          | 0/10 [00:00<?, ?it/s]"
      ]
     },
     "metadata": {},
     "output_type": "display_data"
    },
    {
     "data": {
      "application/vnd.jupyter.widget-view+json": {
       "model_id": "",
       "version_major": 2,
       "version_minor": 0
      },
      "text/plain": [
       "  0%|          | 0/10 [00:00<?, ?it/s]"
      ]
     },
     "metadata": {},
     "output_type": "display_data"
    },
    {
     "data": {
      "application/vnd.jupyter.widget-view+json": {
       "model_id": "",
       "version_major": 2,
       "version_minor": 0
      },
      "text/plain": [
       "  0%|          | 0/10 [00:00<?, ?it/s]"
      ]
     },
     "metadata": {},
     "output_type": "display_data"
    },
    {
     "data": {
      "application/vnd.jupyter.widget-view+json": {
       "model_id": "",
       "version_major": 2,
       "version_minor": 0
      },
      "text/plain": [
       "  0%|          | 0/10 [00:00<?, ?it/s]"
      ]
     },
     "metadata": {},
     "output_type": "display_data"
    },
    {
     "data": {
      "application/vnd.jupyter.widget-view+json": {
       "model_id": "",
       "version_major": 2,
       "version_minor": 0
      },
      "text/plain": [
       "  0%|          | 0/10 [00:00<?, ?it/s]"
      ]
     },
     "metadata": {},
     "output_type": "display_data"
    },
    {
     "data": {
      "application/vnd.jupyter.widget-view+json": {
       "model_id": "",
       "version_major": 2,
       "version_minor": 0
      },
      "text/plain": [
       "  0%|          | 0/10 [00:00<?, ?it/s]"
      ]
     },
     "metadata": {},
     "output_type": "display_data"
    },
    {
     "data": {
      "application/vnd.jupyter.widget-view+json": {
       "model_id": "",
       "version_major": 2,
       "version_minor": 0
      },
      "text/plain": [
       "  0%|          | 0/10 [00:00<?, ?it/s]"
      ]
     },
     "metadata": {},
     "output_type": "display_data"
    },
    {
     "data": {
      "application/vnd.jupyter.widget-view+json": {
       "model_id": "",
       "version_major": 2,
       "version_minor": 0
      },
      "text/plain": [
       "  0%|          | 0/10 [00:00<?, ?it/s]"
      ]
     },
     "metadata": {},
     "output_type": "display_data"
    },
    {
     "data": {
      "application/vnd.jupyter.widget-view+json": {
       "model_id": "",
       "version_major": 2,
       "version_minor": 0
      },
      "text/plain": [
       "  0%|          | 0/10 [00:00<?, ?it/s]"
      ]
     },
     "metadata": {},
     "output_type": "display_data"
    },
    {
     "data": {
      "application/vnd.jupyter.widget-view+json": {
       "model_id": "",
       "version_major": 2,
       "version_minor": 0
      },
      "text/plain": [
       "  0%|          | 0/10 [00:00<?, ?it/s]"
      ]
     },
     "metadata": {},
     "output_type": "display_data"
    },
    {
     "data": {
      "application/vnd.jupyter.widget-view+json": {
       "model_id": "",
       "version_major": 2,
       "version_minor": 0
      },
      "text/plain": [
       "  0%|          | 0/10 [00:00<?, ?it/s]"
      ]
     },
     "metadata": {},
     "output_type": "display_data"
    },
    {
     "data": {
      "application/vnd.jupyter.widget-view+json": {
       "model_id": "",
       "version_major": 2,
       "version_minor": 0
      },
      "text/plain": [
       "  0%|          | 0/10 [00:00<?, ?it/s]"
      ]
     },
     "metadata": {},
     "output_type": "display_data"
    },
    {
     "data": {
      "application/vnd.jupyter.widget-view+json": {
       "model_id": "",
       "version_major": 2,
       "version_minor": 0
      },
      "text/plain": [
       "  0%|          | 0/10 [00:00<?, ?it/s]"
      ]
     },
     "metadata": {},
     "output_type": "display_data"
    },
    {
     "data": {
      "application/vnd.jupyter.widget-view+json": {
       "model_id": "",
       "version_major": 2,
       "version_minor": 0
      },
      "text/plain": [
       "  0%|          | 0/10 [00:00<?, ?it/s]"
      ]
     },
     "metadata": {},
     "output_type": "display_data"
    },
    {
     "data": {
      "application/vnd.jupyter.widget-view+json": {
       "model_id": "",
       "version_major": 2,
       "version_minor": 0
      },
      "text/plain": [
       "  0%|          | 0/10 [00:00<?, ?it/s]"
      ]
     },
     "metadata": {},
     "output_type": "display_data"
    },
    {
     "data": {
      "application/vnd.jupyter.widget-view+json": {
       "model_id": "",
       "version_major": 2,
       "version_minor": 0
      },
      "text/plain": [
       "  0%|          | 0/10 [00:00<?, ?it/s]"
      ]
     },
     "metadata": {},
     "output_type": "display_data"
    },
    {
     "data": {
      "application/vnd.jupyter.widget-view+json": {
       "model_id": "",
       "version_major": 2,
       "version_minor": 0
      },
      "text/plain": [
       "  0%|          | 0/10 [00:00<?, ?it/s]"
      ]
     },
     "metadata": {},
     "output_type": "display_data"
    },
    {
     "data": {
      "application/vnd.jupyter.widget-view+json": {
       "model_id": "",
       "version_major": 2,
       "version_minor": 0
      },
      "text/plain": [
       "  0%|          | 0/10 [00:00<?, ?it/s]"
      ]
     },
     "metadata": {},
     "output_type": "display_data"
    },
    {
     "data": {
      "application/vnd.jupyter.widget-view+json": {
       "model_id": "",
       "version_major": 2,
       "version_minor": 0
      },
      "text/plain": [
       "  0%|          | 0/10 [00:00<?, ?it/s]"
      ]
     },
     "metadata": {},
     "output_type": "display_data"
    },
    {
     "data": {
      "application/vnd.jupyter.widget-view+json": {
       "model_id": "",
       "version_major": 2,
       "version_minor": 0
      },
      "text/plain": [
       "  0%|          | 0/10 [00:00<?, ?it/s]"
      ]
     },
     "metadata": {},
     "output_type": "display_data"
    },
    {
     "data": {
      "application/vnd.jupyter.widget-view+json": {
       "model_id": "",
       "version_major": 2,
       "version_minor": 0
      },
      "text/plain": [
       "  0%|          | 0/10 [00:00<?, ?it/s]"
      ]
     },
     "metadata": {},
     "output_type": "display_data"
    },
    {
     "data": {
      "application/vnd.jupyter.widget-view+json": {
       "model_id": "",
       "version_major": 2,
       "version_minor": 0
      },
      "text/plain": [
       "  0%|          | 0/10 [00:00<?, ?it/s]"
      ]
     },
     "metadata": {},
     "output_type": "display_data"
    },
    {
     "data": {
      "application/vnd.jupyter.widget-view+json": {
       "model_id": "",
       "version_major": 2,
       "version_minor": 0
      },
      "text/plain": [
       "  0%|          | 0/10 [00:00<?, ?it/s]"
      ]
     },
     "metadata": {},
     "output_type": "display_data"
    },
    {
     "data": {
      "application/vnd.jupyter.widget-view+json": {
       "model_id": "",
       "version_major": 2,
       "version_minor": 0
      },
      "text/plain": [
       "  0%|          | 0/10 [00:00<?, ?it/s]"
      ]
     },
     "metadata": {},
     "output_type": "display_data"
    },
    {
     "data": {
      "application/vnd.jupyter.widget-view+json": {
       "model_id": "",
       "version_major": 2,
       "version_minor": 0
      },
      "text/plain": [
       "  0%|          | 0/10 [00:00<?, ?it/s]"
      ]
     },
     "metadata": {},
     "output_type": "display_data"
    },
    {
     "data": {
      "application/vnd.jupyter.widget-view+json": {
       "model_id": "",
       "version_major": 2,
       "version_minor": 0
      },
      "text/plain": [
       "  0%|          | 0/10 [00:00<?, ?it/s]"
      ]
     },
     "metadata": {},
     "output_type": "display_data"
    },
    {
     "data": {
      "application/vnd.jupyter.widget-view+json": {
       "model_id": "",
       "version_major": 2,
       "version_minor": 0
      },
      "text/plain": [
       "  0%|          | 0/10 [00:00<?, ?it/s]"
      ]
     },
     "metadata": {},
     "output_type": "display_data"
    },
    {
     "data": {
      "application/vnd.jupyter.widget-view+json": {
       "model_id": "",
       "version_major": 2,
       "version_minor": 0
      },
      "text/plain": [
       "  0%|          | 0/10 [00:00<?, ?it/s]"
      ]
     },
     "metadata": {},
     "output_type": "display_data"
    },
    {
     "data": {
      "application/vnd.jupyter.widget-view+json": {
       "model_id": "",
       "version_major": 2,
       "version_minor": 0
      },
      "text/plain": [
       "  0%|          | 0/10 [00:00<?, ?it/s]"
      ]
     },
     "metadata": {},
     "output_type": "display_data"
    },
    {
     "data": {
      "application/vnd.jupyter.widget-view+json": {
       "model_id": "",
       "version_major": 2,
       "version_minor": 0
      },
      "text/plain": [
       "  0%|          | 0/10 [00:00<?, ?it/s]"
      ]
     },
     "metadata": {},
     "output_type": "display_data"
    },
    {
     "data": {
      "application/vnd.jupyter.widget-view+json": {
       "model_id": "",
       "version_major": 2,
       "version_minor": 0
      },
      "text/plain": [
       "  0%|          | 0/10 [00:00<?, ?it/s]"
      ]
     },
     "metadata": {},
     "output_type": "display_data"
    },
    {
     "data": {
      "application/vnd.jupyter.widget-view+json": {
       "model_id": "",
       "version_major": 2,
       "version_minor": 0
      },
      "text/plain": [
       "  0%|          | 0/10 [00:00<?, ?it/s]"
      ]
     },
     "metadata": {},
     "output_type": "display_data"
    },
    {
     "data": {
      "application/vnd.jupyter.widget-view+json": {
       "model_id": "",
       "version_major": 2,
       "version_minor": 0
      },
      "text/plain": [
       "  0%|          | 0/10 [00:00<?, ?it/s]"
      ]
     },
     "metadata": {},
     "output_type": "display_data"
    },
    {
     "data": {
      "application/vnd.jupyter.widget-view+json": {
       "model_id": "",
       "version_major": 2,
       "version_minor": 0
      },
      "text/plain": [
       "  0%|          | 0/10 [00:00<?, ?it/s]"
      ]
     },
     "metadata": {},
     "output_type": "display_data"
    },
    {
     "data": {
      "application/vnd.jupyter.widget-view+json": {
       "model_id": "",
       "version_major": 2,
       "version_minor": 0
      },
      "text/plain": [
       "  0%|          | 0/10 [00:00<?, ?it/s]"
      ]
     },
     "metadata": {},
     "output_type": "display_data"
    },
    {
     "data": {
      "application/vnd.jupyter.widget-view+json": {
       "model_id": "",
       "version_major": 2,
       "version_minor": 0
      },
      "text/plain": [
       "  0%|          | 0/10 [00:00<?, ?it/s]"
      ]
     },
     "metadata": {},
     "output_type": "display_data"
    },
    {
     "data": {
      "application/vnd.jupyter.widget-view+json": {
       "model_id": "",
       "version_major": 2,
       "version_minor": 0
      },
      "text/plain": [
       "  0%|          | 0/10 [00:00<?, ?it/s]"
      ]
     },
     "metadata": {},
     "output_type": "display_data"
    },
    {
     "data": {
      "application/vnd.jupyter.widget-view+json": {
       "model_id": "",
       "version_major": 2,
       "version_minor": 0
      },
      "text/plain": [
       "  0%|          | 0/10 [00:00<?, ?it/s]"
      ]
     },
     "metadata": {},
     "output_type": "display_data"
    },
    {
     "data": {
      "application/vnd.jupyter.widget-view+json": {
       "model_id": "",
       "version_major": 2,
       "version_minor": 0
      },
      "text/plain": [
       "  0%|          | 0/10 [00:00<?, ?it/s]"
      ]
     },
     "metadata": {},
     "output_type": "display_data"
    },
    {
     "data": {
      "application/vnd.jupyter.widget-view+json": {
       "model_id": "",
       "version_major": 2,
       "version_minor": 0
      },
      "text/plain": [
       "  0%|          | 0/10 [00:00<?, ?it/s]"
      ]
     },
     "metadata": {},
     "output_type": "display_data"
    },
    {
     "data": {
      "application/vnd.jupyter.widget-view+json": {
       "model_id": "",
       "version_major": 2,
       "version_minor": 0
      },
      "text/plain": [
       "  0%|          | 0/10 [00:00<?, ?it/s]"
      ]
     },
     "metadata": {},
     "output_type": "display_data"
    },
    {
     "data": {
      "application/vnd.jupyter.widget-view+json": {
       "model_id": "",
       "version_major": 2,
       "version_minor": 0
      },
      "text/plain": [
       "  0%|          | 0/10 [00:00<?, ?it/s]"
      ]
     },
     "metadata": {},
     "output_type": "display_data"
    },
    {
     "data": {
      "application/vnd.jupyter.widget-view+json": {
       "model_id": "",
       "version_major": 2,
       "version_minor": 0
      },
      "text/plain": [
       "  0%|          | 0/10 [00:00<?, ?it/s]"
      ]
     },
     "metadata": {},
     "output_type": "display_data"
    },
    {
     "data": {
      "application/vnd.jupyter.widget-view+json": {
       "model_id": "",
       "version_major": 2,
       "version_minor": 0
      },
      "text/plain": [
       "  0%|          | 0/10 [00:00<?, ?it/s]"
      ]
     },
     "metadata": {},
     "output_type": "display_data"
    },
    {
     "data": {
      "application/vnd.jupyter.widget-view+json": {
       "model_id": "",
       "version_major": 2,
       "version_minor": 0
      },
      "text/plain": [
       "  0%|          | 0/10 [00:00<?, ?it/s]"
      ]
     },
     "metadata": {},
     "output_type": "display_data"
    },
    {
     "data": {
      "application/vnd.jupyter.widget-view+json": {
       "model_id": "",
       "version_major": 2,
       "version_minor": 0
      },
      "text/plain": [
       "  0%|          | 0/10 [00:00<?, ?it/s]"
      ]
     },
     "metadata": {},
     "output_type": "display_data"
    },
    {
     "data": {
      "application/vnd.jupyter.widget-view+json": {
       "model_id": "",
       "version_major": 2,
       "version_minor": 0
      },
      "text/plain": [
       "  0%|          | 0/10 [00:00<?, ?it/s]"
      ]
     },
     "metadata": {},
     "output_type": "display_data"
    },
    {
     "data": {
      "application/vnd.jupyter.widget-view+json": {
       "model_id": "",
       "version_major": 2,
       "version_minor": 0
      },
      "text/plain": [
       "  0%|          | 0/10 [00:00<?, ?it/s]"
      ]
     },
     "metadata": {},
     "output_type": "display_data"
    },
    {
     "data": {
      "application/vnd.jupyter.widget-view+json": {
       "model_id": "",
       "version_major": 2,
       "version_minor": 0
      },
      "text/plain": [
       "  0%|          | 0/10 [00:00<?, ?it/s]"
      ]
     },
     "metadata": {},
     "output_type": "display_data"
    },
    {
     "data": {
      "application/vnd.jupyter.widget-view+json": {
       "model_id": "",
       "version_major": 2,
       "version_minor": 0
      },
      "text/plain": [
       "  0%|          | 0/10 [00:00<?, ?it/s]"
      ]
     },
     "metadata": {},
     "output_type": "display_data"
    },
    {
     "data": {
      "application/vnd.jupyter.widget-view+json": {
       "model_id": "",
       "version_major": 2,
       "version_minor": 0
      },
      "text/plain": [
       "  0%|          | 0/10 [00:00<?, ?it/s]"
      ]
     },
     "metadata": {},
     "output_type": "display_data"
    },
    {
     "data": {
      "application/vnd.jupyter.widget-view+json": {
       "model_id": "",
       "version_major": 2,
       "version_minor": 0
      },
      "text/plain": [
       "  0%|          | 0/10 [00:00<?, ?it/s]"
      ]
     },
     "metadata": {},
     "output_type": "display_data"
    },
    {
     "data": {
      "application/vnd.jupyter.widget-view+json": {
       "model_id": "",
       "version_major": 2,
       "version_minor": 0
      },
      "text/plain": [
       "  0%|          | 0/10 [00:00<?, ?it/s]"
      ]
     },
     "metadata": {},
     "output_type": "display_data"
    },
    {
     "data": {
      "application/vnd.jupyter.widget-view+json": {
       "model_id": "",
       "version_major": 2,
       "version_minor": 0
      },
      "text/plain": [
       "  0%|          | 0/10 [00:00<?, ?it/s]"
      ]
     },
     "metadata": {},
     "output_type": "display_data"
    },
    {
     "data": {
      "application/vnd.jupyter.widget-view+json": {
       "model_id": "",
       "version_major": 2,
       "version_minor": 0
      },
      "text/plain": [
       "  0%|          | 0/10 [00:00<?, ?it/s]"
      ]
     },
     "metadata": {},
     "output_type": "display_data"
    },
    {
     "data": {
      "application/vnd.jupyter.widget-view+json": {
       "model_id": "",
       "version_major": 2,
       "version_minor": 0
      },
      "text/plain": [
       "  0%|          | 0/10 [00:00<?, ?it/s]"
      ]
     },
     "metadata": {},
     "output_type": "display_data"
    },
    {
     "data": {
      "application/vnd.jupyter.widget-view+json": {
       "model_id": "",
       "version_major": 2,
       "version_minor": 0
      },
      "text/plain": [
       "  0%|          | 0/10 [00:00<?, ?it/s]"
      ]
     },
     "metadata": {},
     "output_type": "display_data"
    },
    {
     "data": {
      "application/vnd.jupyter.widget-view+json": {
       "model_id": "",
       "version_major": 2,
       "version_minor": 0
      },
      "text/plain": [
       "  0%|          | 0/10 [00:00<?, ?it/s]"
      ]
     },
     "metadata": {},
     "output_type": "display_data"
    },
    {
     "data": {
      "application/vnd.jupyter.widget-view+json": {
       "model_id": "",
       "version_major": 2,
       "version_minor": 0
      },
      "text/plain": [
       "  0%|          | 0/10 [00:00<?, ?it/s]"
      ]
     },
     "metadata": {},
     "output_type": "display_data"
    },
    {
     "data": {
      "application/vnd.jupyter.widget-view+json": {
       "model_id": "",
       "version_major": 2,
       "version_minor": 0
      },
      "text/plain": [
       "  0%|          | 0/10 [00:00<?, ?it/s]"
      ]
     },
     "metadata": {},
     "output_type": "display_data"
    },
    {
     "data": {
      "application/vnd.jupyter.widget-view+json": {
       "model_id": "",
       "version_major": 2,
       "version_minor": 0
      },
      "text/plain": [
       "  0%|          | 0/10 [00:00<?, ?it/s]"
      ]
     },
     "metadata": {},
     "output_type": "display_data"
    },
    {
     "data": {
      "application/vnd.jupyter.widget-view+json": {
       "model_id": "",
       "version_major": 2,
       "version_minor": 0
      },
      "text/plain": [
       "  0%|          | 0/10 [00:00<?, ?it/s]"
      ]
     },
     "metadata": {},
     "output_type": "display_data"
    },
    {
     "data": {
      "application/vnd.jupyter.widget-view+json": {
       "model_id": "",
       "version_major": 2,
       "version_minor": 0
      },
      "text/plain": [
       "  0%|          | 0/10 [00:00<?, ?it/s]"
      ]
     },
     "metadata": {},
     "output_type": "display_data"
    },
    {
     "data": {
      "application/vnd.jupyter.widget-view+json": {
       "model_id": "",
       "version_major": 2,
       "version_minor": 0
      },
      "text/plain": [
       "  0%|          | 0/10 [00:00<?, ?it/s]"
      ]
     },
     "metadata": {},
     "output_type": "display_data"
    },
    {
     "data": {
      "application/vnd.jupyter.widget-view+json": {
       "model_id": "",
       "version_major": 2,
       "version_minor": 0
      },
      "text/plain": [
       "  0%|          | 0/10 [00:00<?, ?it/s]"
      ]
     },
     "metadata": {},
     "output_type": "display_data"
    },
    {
     "data": {
      "application/vnd.jupyter.widget-view+json": {
       "model_id": "",
       "version_major": 2,
       "version_minor": 0
      },
      "text/plain": [
       "  0%|          | 0/10 [00:00<?, ?it/s]"
      ]
     },
     "metadata": {},
     "output_type": "display_data"
    },
    {
     "data": {
      "application/vnd.jupyter.widget-view+json": {
       "model_id": "",
       "version_major": 2,
       "version_minor": 0
      },
      "text/plain": [
       "  0%|          | 0/10 [00:00<?, ?it/s]"
      ]
     },
     "metadata": {},
     "output_type": "display_data"
    },
    {
     "data": {
      "application/vnd.jupyter.widget-view+json": {
       "model_id": "",
       "version_major": 2,
       "version_minor": 0
      },
      "text/plain": [
       "  0%|          | 0/10 [00:00<?, ?it/s]"
      ]
     },
     "metadata": {},
     "output_type": "display_data"
    },
    {
     "data": {
      "application/vnd.jupyter.widget-view+json": {
       "model_id": "",
       "version_major": 2,
       "version_minor": 0
      },
      "text/plain": [
       "  0%|          | 0/10 [00:00<?, ?it/s]"
      ]
     },
     "metadata": {},
     "output_type": "display_data"
    },
    {
     "data": {
      "application/vnd.jupyter.widget-view+json": {
       "model_id": "",
       "version_major": 2,
       "version_minor": 0
      },
      "text/plain": [
       "  0%|          | 0/10 [00:00<?, ?it/s]"
      ]
     },
     "metadata": {},
     "output_type": "display_data"
    },
    {
     "data": {
      "application/vnd.jupyter.widget-view+json": {
       "model_id": "",
       "version_major": 2,
       "version_minor": 0
      },
      "text/plain": [
       "  0%|          | 0/10 [00:00<?, ?it/s]"
      ]
     },
     "metadata": {},
     "output_type": "display_data"
    },
    {
     "data": {
      "application/vnd.jupyter.widget-view+json": {
       "model_id": "",
       "version_major": 2,
       "version_minor": 0
      },
      "text/plain": [
       "  0%|          | 0/10 [00:00<?, ?it/s]"
      ]
     },
     "metadata": {},
     "output_type": "display_data"
    },
    {
     "data": {
      "application/vnd.jupyter.widget-view+json": {
       "model_id": "",
       "version_major": 2,
       "version_minor": 0
      },
      "text/plain": [
       "  0%|          | 0/10 [00:00<?, ?it/s]"
      ]
     },
     "metadata": {},
     "output_type": "display_data"
    },
    {
     "data": {
      "application/vnd.jupyter.widget-view+json": {
       "model_id": "",
       "version_major": 2,
       "version_minor": 0
      },
      "text/plain": [
       "  0%|          | 0/10 [00:00<?, ?it/s]"
      ]
     },
     "metadata": {},
     "output_type": "display_data"
    },
    {
     "data": {
      "application/vnd.jupyter.widget-view+json": {
       "model_id": "",
       "version_major": 2,
       "version_minor": 0
      },
      "text/plain": [
       "  0%|          | 0/10 [00:00<?, ?it/s]"
      ]
     },
     "metadata": {},
     "output_type": "display_data"
    },
    {
     "data": {
      "application/vnd.jupyter.widget-view+json": {
       "model_id": "",
       "version_major": 2,
       "version_minor": 0
      },
      "text/plain": [
       "  0%|          | 0/10 [00:00<?, ?it/s]"
      ]
     },
     "metadata": {},
     "output_type": "display_data"
    },
    {
     "data": {
      "application/vnd.jupyter.widget-view+json": {
       "model_id": "",
       "version_major": 2,
       "version_minor": 0
      },
      "text/plain": [
       "  0%|          | 0/10 [00:00<?, ?it/s]"
      ]
     },
     "metadata": {},
     "output_type": "display_data"
    },
    {
     "data": {
      "application/vnd.jupyter.widget-view+json": {
       "model_id": "",
       "version_major": 2,
       "version_minor": 0
      },
      "text/plain": [
       "  0%|          | 0/10 [00:00<?, ?it/s]"
      ]
     },
     "metadata": {},
     "output_type": "display_data"
    },
    {
     "data": {
      "application/vnd.jupyter.widget-view+json": {
       "model_id": "",
       "version_major": 2,
       "version_minor": 0
      },
      "text/plain": [
       "  0%|          | 0/10 [00:00<?, ?it/s]"
      ]
     },
     "metadata": {},
     "output_type": "display_data"
    },
    {
     "data": {
      "application/vnd.jupyter.widget-view+json": {
       "model_id": "",
       "version_major": 2,
       "version_minor": 0
      },
      "text/plain": [
       "  0%|          | 0/10 [00:00<?, ?it/s]"
      ]
     },
     "metadata": {},
     "output_type": "display_data"
    },
    {
     "data": {
      "application/vnd.jupyter.widget-view+json": {
       "model_id": "",
       "version_major": 2,
       "version_minor": 0
      },
      "text/plain": [
       "  0%|          | 0/10 [00:00<?, ?it/s]"
      ]
     },
     "metadata": {},
     "output_type": "display_data"
    },
    {
     "data": {
      "application/vnd.jupyter.widget-view+json": {
       "model_id": "",
       "version_major": 2,
       "version_minor": 0
      },
      "text/plain": [
       "  0%|          | 0/10 [00:00<?, ?it/s]"
      ]
     },
     "metadata": {},
     "output_type": "display_data"
    },
    {
     "data": {
      "application/vnd.jupyter.widget-view+json": {
       "model_id": "",
       "version_major": 2,
       "version_minor": 0
      },
      "text/plain": [
       "  0%|          | 0/10 [00:00<?, ?it/s]"
      ]
     },
     "metadata": {},
     "output_type": "display_data"
    },
    {
     "data": {
      "application/vnd.jupyter.widget-view+json": {
       "model_id": "",
       "version_major": 2,
       "version_minor": 0
      },
      "text/plain": [
       "  0%|          | 0/10 [00:00<?, ?it/s]"
      ]
     },
     "metadata": {},
     "output_type": "display_data"
    },
    {
     "data": {
      "application/vnd.jupyter.widget-view+json": {
       "model_id": "",
       "version_major": 2,
       "version_minor": 0
      },
      "text/plain": [
       "  0%|          | 0/10 [00:00<?, ?it/s]"
      ]
     },
     "metadata": {},
     "output_type": "display_data"
    },
    {
     "data": {
      "application/vnd.jupyter.widget-view+json": {
       "model_id": "",
       "version_major": 2,
       "version_minor": 0
      },
      "text/plain": [
       "  0%|          | 0/10 [00:00<?, ?it/s]"
      ]
     },
     "metadata": {},
     "output_type": "display_data"
    },
    {
     "data": {
      "application/vnd.jupyter.widget-view+json": {
       "model_id": "",
       "version_major": 2,
       "version_minor": 0
      },
      "text/plain": [
       "  0%|          | 0/10 [00:00<?, ?it/s]"
      ]
     },
     "metadata": {},
     "output_type": "display_data"
    },
    {
     "data": {
      "application/vnd.jupyter.widget-view+json": {
       "model_id": "",
       "version_major": 2,
       "version_minor": 0
      },
      "text/plain": [
       "  0%|          | 0/10 [00:00<?, ?it/s]"
      ]
     },
     "metadata": {},
     "output_type": "display_data"
    },
    {
     "data": {
      "application/vnd.jupyter.widget-view+json": {
       "model_id": "",
       "version_major": 2,
       "version_minor": 0
      },
      "text/plain": [
       "  0%|          | 0/10 [00:00<?, ?it/s]"
      ]
     },
     "metadata": {},
     "output_type": "display_data"
    },
    {
     "data": {
      "application/vnd.jupyter.widget-view+json": {
       "model_id": "",
       "version_major": 2,
       "version_minor": 0
      },
      "text/plain": [
       "  0%|          | 0/10 [00:00<?, ?it/s]"
      ]
     },
     "metadata": {},
     "output_type": "display_data"
    },
    {
     "data": {
      "application/vnd.jupyter.widget-view+json": {
       "model_id": "",
       "version_major": 2,
       "version_minor": 0
      },
      "text/plain": [
       "  0%|          | 0/10 [00:00<?, ?it/s]"
      ]
     },
     "metadata": {},
     "output_type": "display_data"
    },
    {
     "data": {
      "application/vnd.jupyter.widget-view+json": {
       "model_id": "",
       "version_major": 2,
       "version_minor": 0
      },
      "text/plain": [
       "  0%|          | 0/10 [00:00<?, ?it/s]"
      ]
     },
     "metadata": {},
     "output_type": "display_data"
    },
    {
     "data": {
      "application/vnd.jupyter.widget-view+json": {
       "model_id": "",
       "version_major": 2,
       "version_minor": 0
      },
      "text/plain": [
       "  0%|          | 0/10 [00:00<?, ?it/s]"
      ]
     },
     "metadata": {},
     "output_type": "display_data"
    },
    {
     "data": {
      "application/vnd.jupyter.widget-view+json": {
       "model_id": "",
       "version_major": 2,
       "version_minor": 0
      },
      "text/plain": [
       "  0%|          | 0/10 [00:00<?, ?it/s]"
      ]
     },
     "metadata": {},
     "output_type": "display_data"
    },
    {
     "data": {
      "application/vnd.jupyter.widget-view+json": {
       "model_id": "",
       "version_major": 2,
       "version_minor": 0
      },
      "text/plain": [
       "  0%|          | 0/10 [00:00<?, ?it/s]"
      ]
     },
     "metadata": {},
     "output_type": "display_data"
    },
    {
     "data": {
      "application/vnd.jupyter.widget-view+json": {
       "model_id": "",
       "version_major": 2,
       "version_minor": 0
      },
      "text/plain": [
       "  0%|          | 0/10 [00:00<?, ?it/s]"
      ]
     },
     "metadata": {},
     "output_type": "display_data"
    },
    {
     "data": {
      "application/vnd.jupyter.widget-view+json": {
       "model_id": "",
       "version_major": 2,
       "version_minor": 0
      },
      "text/plain": [
       "  0%|          | 0/10 [00:00<?, ?it/s]"
      ]
     },
     "metadata": {},
     "output_type": "display_data"
    },
    {
     "data": {
      "application/vnd.jupyter.widget-view+json": {
       "model_id": "",
       "version_major": 2,
       "version_minor": 0
      },
      "text/plain": [
       "  0%|          | 0/10 [00:00<?, ?it/s]"
      ]
     },
     "metadata": {},
     "output_type": "display_data"
    },
    {
     "data": {
      "application/vnd.jupyter.widget-view+json": {
       "model_id": "",
       "version_major": 2,
       "version_minor": 0
      },
      "text/plain": [
       "  0%|          | 0/10 [00:00<?, ?it/s]"
      ]
     },
     "metadata": {},
     "output_type": "display_data"
    },
    {
     "data": {
      "application/vnd.jupyter.widget-view+json": {
       "model_id": "",
       "version_major": 2,
       "version_minor": 0
      },
      "text/plain": [
       "  0%|          | 0/10 [00:00<?, ?it/s]"
      ]
     },
     "metadata": {},
     "output_type": "display_data"
    }
   ],
   "source": [
    "def MCaverage_heated(x):\n",
    "    G = np.zeros((Nsweeps, N, Ncf))            # Initialize the value of the two-point correlation function\n",
    "    G1 = np.zeros((Nsweeps, N, Ncf))           # Initialize the value of the one-point correlation function\n",
    "    \n",
    "    for k in tqdm(range(Nsweeps), leave = False):\n",
    "        \n",
    "        z = np.zeros(Nin)\n",
    "        x = np.zeros(N)\n",
    "\n",
    "        setup(Nin, z, beta)\n",
    "        z = sorted(z)\n",
    "        \n",
    "        for j in range(N):\n",
    "            xj = a*j\n",
    "            x[j] = sum_ans(Nin, z, eta, xj)\n",
    "\n",
    "        for h in tqdm(range(Nheat), leave = False):\n",
    "            x_hot = x\n",
    "            w = -4*(eta**2-3*x**2)\n",
    "            update(x, w, x_hot)\n",
    "            \n",
    "            \n",
    "        for t in range(Ncf):                   # Evaluate correlation functions of order t = 1, 2, ..., Ncf\n",
    "            for n in range(N):\n",
    "                G[k, n, t] = computeG2(x_hot, n, t+1)\n",
    "                G1[k, n, t] = x_hot[n]**t / N\n",
    "\n",
    "    avg_G = np.zeros((N, Ncf))                 # Initialize the value of the average\n",
    "    avg_G1 = np.zeros((N, Ncf))                # (both for one- and two-point correlation functions)\n",
    "    \n",
    "    for n in range(N):                         # Compute the Monte Carlo average for each order t\n",
    "        for t in range(Ncf):\n",
    "            for k in range(Nsweeps):\n",
    "                avg_G[n, t] = avg_G[n, t] + G[k, n, t]           # Two-point correlation function\n",
    "                avg_G1[n, t] = avg_G1[n, t] + G1[k, n, t]        # One-point correlation function\n",
    "    avg_G = avg_G / Nsweeps\n",
    "    avg_G1 = avg_G1 / Nsweeps\n",
    "        \n",
    "    return avg_G, avg_G1\n",
    "\n",
    "# Computing the first Ncf correlation functions\n",
    "G_two, G_one = MCaverage_heated(x)\n",
    "\n",
    "deltaG = np.sqrt(np.abs(G_two-np.power(G_one, 2)) / Nsweeps)          # Statistical error"
   ]
  },
  {
   "cell_type": "code",
   "execution_count": 24,
   "id": "64bf7925",
   "metadata": {},
   "outputs": [
    {
     "data": {
      "image/png": "[encoded data removed]",
      "text/plain": [
       "<Figure size 720x360 with 1 Axes>"
      ]
     },
     "metadata": {
      "needs_background": "light"
     },
     "output_type": "display_data"
    }
   ],
   "source": [
    "# Plotting the correlation functions\n",
    "fig, ax = plt.subplots(figsize = (10,5))\n",
    "\n",
    "for i in range(Ncf):\n",
    "    ax.plot(tau_vec, G_two[:,i], 'o', label = 't = ' + str(i+1))\n",
    "    plt.errorbar(tau_vec, G_two[:,i], yerr = deltaG[:,i], xerr = None, fmt = 'None', ecolor = 'black')\n",
    "    \n",
    "ax. plot(tau_vec, G_exact[:,0], color = 'blue')\n",
    "ax. plot(tau_vec, G_exact[:,1], color = 'orange')\n",
    "ax. plot(tau_vec, G_exact[:,2], color = 'green')\n",
    "\n",
    "ax.set_xlabel('$\\\\tau$')\n",
    "ax.set_ylabel('$G_t(x,\\Delta\\\\tau)$')\n",
    "plt.xlim([0, 1.5])\n",
    "plt.ylim([np.min(G_two), 12])\n",
    "plt.grid(linewidth = 0.5)\n",
    "plt.title('Correlation functions of order $t$ for $\\eta =$' + str(eta));\n",
    "plt.legend()\n",
    "plt.show()"
   ]
  },
  {
   "cell_type": "code",
   "execution_count": 26,
   "id": "3bf4fca9",
   "metadata": {
    "scrolled": true
   },
   "outputs": [
    {
     "data": {
      "image/png": "[encoded data removed]",
      "text/plain": [
       "<Figure size 720x360 with 1 Axes>"
      ]
     },
     "metadata": {
      "needs_background": "light"
     },
     "output_type": "display_data"
    }
   ],
   "source": [
    "# Function that computes the logarithmic derivative of a vector\n",
    "def logder(x):\n",
    "    \n",
    "    for i in range(len(x)):          # Avoid numerical errors in the unimportant parts of vector x\n",
    "        if x[i] <= 0:\n",
    "            x[i] = 1e-10\n",
    "    \n",
    "    logx = np.log(x)\n",
    "    logder = - diff(logx) / a\n",
    "    logder = np.append(logder, 0)    # The length must be the same as the one of vector tau\n",
    "                                     # (what appears at the end has no importance)\n",
    "    return logder\n",
    "\n",
    "\n",
    "# Plotting the logarithmic derivative of the correlation functions\n",
    "fig, ax = plt.subplots(figsize = (10,5))\n",
    "\n",
    "for i in range(0, Ncf, 2):\n",
    "    ax.plot(tau_vec, logder(np.abs(G_two[:,i])), 'o', label = 't = ' + str(i+1))\n",
    "    \n",
    "    logG_err = np.zeros((N,3))\n",
    "    for j in range(N-1):\n",
    "        logG_err[j,i] = np.square(deltaG[j+1,i] / G_two[j,i]) + np.square(deltaG[j,i]*G_two[j+1,i] / np.square(G_two[j,i]))\n",
    "        logG_err[j,i] = np.sqrt(logG_err[j,i])\n",
    "\n",
    "    plt.errorbar(tau_vec, logder(np.abs(G_two[:,i])), yerr = logG_err[:,i], xerr = None, fmt = 'None', ecolor = 'black')\n",
    "    \n",
    "G_exact_sub = G_exact[:,1] - rho[0,1]            # Subtraction constant for exact correlation function\n",
    "\n",
    "ax. plot(tau_vec, logder(np.abs(G_exact[:,0])), color = 'blue')\n",
    "ax. plot(tau_vec, logder(np.abs(G_exact_sub)), color = 'green')        # Subtracted one\n",
    "ax. plot(tau_vec, logder(np.abs(G_exact[:,2])), color = 'orange')\n",
    "\n",
    "# Even-order correlation function with constant value subtracted\n",
    "Gsub = G_two[:,1] - np.power(G_two[0,0], 2)\n",
    "Gsub_err = np.sqrt(np.square(deltaG[:,1]) + np.square(2*G_two[N-1,0]*deltaG[N-1,0]))     # Error propagation\n",
    "\n",
    "# Computing the errors of the logarithmic derivative\n",
    "logG_err = np.zeros(N)\n",
    "for j in range(N-1):\n",
    "    logG_err[j] = np.square(Gsub_err[j+1] / Gsub[j]) + np.square(Gsub_err[j]*Gsub[j+1] / np.square(Gsub[j]))\n",
    "    logG_err[j] = np.sqrt(logG_err[j])\n",
    "\n",
    "# Plotting the subtracted correlation function\n",
    "Nkeep = 17                         # Number of points to be kept for the subtracted correlation function\n",
    "tau_vecS = tau_vec[:Nkeep]\n",
    "logderS = logder(np.abs(Gsub))\n",
    "logderS = logderS[:Nkeep]\n",
    "logG_errS = logG_err[:Nkeep]\n",
    "\n",
    "ax.plot(tau_vecS, logderS, 'o', label = 't = 2 (sub)')\n",
    "plt.errorbar(tau_vecS, logderS, logG_errS, xerr = None, fmt = 'None', ecolor = 'black')\n",
    "\n",
    "ax.set_xlabel('$\\\\tau$')\n",
    "ax.set_ylabel('Logarithmic derivative of $G_t(x,\\Delta\\\\tau)$')\n",
    "plt.xlim([0, 1.5])\n",
    "plt.ylim([-1, 7])\n",
    "plt.grid(linewidth = 0.5)\n",
    "plt.title('Logarithmic derivative of correlation functions for $\\eta =$' + str(eta));\n",
    "plt.legend()\n",
    "plt.show()"
   ]
  },
  {
   "cell_type": "code",
   "execution_count": null,
   "id": "c2a9a140",
   "metadata": {},
   "outputs": [],
   "source": []
  }
 ],
 "metadata": {
  "kernelspec": {
   "display_name": "Python 3 (ipykernel)",
   "language": "python",
   "name": "python3"
  },
  "language_info": {
   "codemirror_mode": {
    "name": "ipython",
    "version": 3
   },
   "file_extension": ".py",
   "mimetype": "text/x-python",
   "name": "python",
   "nbconvert_exporter": "python",
   "pygments_lexer": "ipython3",
   "version": "3.10.2"
  }
 },
 "nbformat": 4,
 "nbformat_minor": 5
}
