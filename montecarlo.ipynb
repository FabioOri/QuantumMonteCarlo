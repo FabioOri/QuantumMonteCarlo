{
 "cells": [
  {
   "cell_type": "markdown",
   "id": "9c76b852",
   "metadata": {},
   "source": [
    "# Path integral Monte Carlo\n",
    "The programme implements the path integral Monte Carlo procedure to diagonalize the anharmonic oscillator, whose path integral is given by:\n",
    "\n",
    "$$\n",
    "\\left<x_f\\left|\\ e^{-iHt}\\ \\right|x_i\\right>\\ =\\int_{x(0)=x_i}^{x(t)=x_f} \\mathcal{D}x\\ e^{iS[x]}\\qquad\\qquad\n",
    "S[x]=\\int_0^t dt\\left[\\frac{1}{4}\\dot{x}^2-\\left(x^2-\\eta^2\\right)^2\\right]\n",
    "$$\n",
    "\n",
    "Input parameters, with default values:\n",
    "- potential parameters: $\\lambda=1$, $\\eta=1.4$\n",
    "- mass of the particle: $m=0.5$\n",
    "- number of lattice points: $N=800$\n",
    "- lattice spacing: $a=0.05$\n",
    "- number of Metropolis configurations: $N_{sweeps}=100$\n",
    "- number of sweeps between each measurement: $N_{cor}=20$"
   ]
  },
  {
   "cell_type": "code",
   "execution_count": 1,
   "id": "ac2a0e78",
   "metadata": {},
   "outputs": [],
   "source": [
    "import matplotlib.pyplot as plt\n",
    "import numpy as np\n",
    "from numpy import linalg as LA\n",
    "import math\n",
    "import random\n",
    "from tqdm.notebook import tqdm"
   ]
  },
  {
   "cell_type": "code",
   "execution_count": 2,
   "id": "3eee476f",
   "metadata": {},
   "outputs": [
    {
     "name": "stdout",
     "output_type": "stream",
     "text": [
      "lambda = \n",
      "eta = \n",
      "m = \n"
     ]
    }
   ],
   "source": [
    "# Parameters of the potential\n",
    "Lambda = float(input(\"lambda = \") or 1);\n",
    "eta = float(input(\"eta = \") or 1.4);\n",
    "m = float(input(\"m = \") or 1/2);\n",
    "hbar = 1;"
   ]
  },
  {
   "cell_type": "code",
   "execution_count": 3,
   "id": "35a72816",
   "metadata": {},
   "outputs": [
    {
     "name": "stdout",
     "output_type": "stream",
     "text": [
      "N = \n",
      "a = \n",
      "Nsweeps = \n",
      "Ncorrelation = \n"
     ]
    }
   ],
   "source": [
    "# Lattice parameters\n",
    "N = int(input(\"N = \") or 800);\n",
    "a = float(input(\"a = \") or 0.05);\n",
    "Nsweeps = int(input(\"Nsweeps = \") or 100);\n",
    "Ncor = int(input(\"Ncorrelation = \") or 20)"
   ]
  },
  {
   "cell_type": "markdown",
   "id": "eb08d542",
   "metadata": {},
   "source": [
    "## Exact diagonalization\n",
    "We repeat here the exact diagonalization procedure, which will be used for comparison in the following."
   ]
  },
  {
   "cell_type": "code",
   "execution_count": 4,
   "id": "09c4d84c",
   "metadata": {},
   "outputs": [
    {
     "name": "stdout",
     "output_type": "stream",
     "text": [
      "Ngrid = \n",
      "xmin = \n",
      "xmax = \n"
     ]
    }
   ],
   "source": [
    "Ngrid = int(input(\"Ngrid = \") or 800);\n",
    "xmin = float(input(\"xmin = \") or -3);\n",
    "xmax = float(input(\"xmax = \") or 3);\n",
    "\n",
    "# Potential\n",
    "xvec = np.linspace(xmin, xmax, Ngrid);     # Vector spanning from xmin to xmax with Ngrid points\n",
    "Vx = Lambda*(xvec**2-eta**2)**2;\n",
    "\n",
    "# Kinetic energy discretization\n",
    "dx = np.diff(xvec).mean();     # Grid resolution\n",
    "diag = -2*np.ones(Ngrid);      # -2f(x)\n",
    "offdiag = np.ones(Ngrid-1);    # f(x+dx) and f(x-dx)\n",
    "\n",
    "d2grid = np.mat(np.diag(diag,0) + np.diag(offdiag,-1) + np.diag(offdiag,1))/dx**2;     # Discretized second derivative\n",
    "\n",
    "# Avoid problems at the edge of the grid\n",
    "d2grid[0,:] = 0;\n",
    "d2grid[Ngrid-1,:] = 0;\n",
    "\n",
    "Ekin = -hbar**2/(2*m)*d2grid;\n",
    "\n",
    "# Potential energy discretization\n",
    "Epot = np.mat(np.diag(Vx, 0))\n",
    "\n",
    "# Total Hamiltonian diagonalization\n",
    "H = Ekin + Epot;\n",
    "w, v = LA.eig(H);\n",
    "\n",
    "sortinds = np.argsort(w);     # Returns the indices that would sort the array w\n",
    "EigVals = w[sortinds];        # Eigenvalues sorting\n",
    "EigVecs = v[:,sortinds];      # Corresponding eigenvectors sorting"
   ]
  },
  {
   "cell_type": "markdown",
   "id": "16d208af",
   "metadata": {},
   "source": [
    "## Monte Carlo method"
   ]
  },
  {
   "cell_type": "markdown",
   "id": "f4dd7940",
   "metadata": {},
   "source": [
    "### Evaluating the action\n",
    "The action in euclidean time $\\beta=it$ is given by:\n",
    "\n",
    "$$\n",
    "S_E[x]=\\int_0^\\beta d\\tau \\left[\\frac{1}{4}\\dot{x}^2+\\left(x^2-\\eta^2\\right)^2\\right]\n",
    "$$\n",
    "\n",
    "We discretize the euclidean time coordinate as: $\\tau_j=ja$, with $j=1,\\dots,N$, so that the action becomes:\n",
    "\n",
    "$$\n",
    "S=\\sum_{j=1}^N \\left[\\frac{1}{4a}\\left(x_j-x_{j-1}\\right)^2+a\\left(x_j^2-\\eta^2\\right)^2\\right]\n",
    "$$\n",
    "\n",
    "where $x_j\\equiv x(\\tau_j)$. Since only few terms of the action change when $x_j$ is updated in the Metropolis algorithm, the following function computes only these terms, as $\\Delta S = S'-S = S'_j-S_j$ when $x_j$ is changed, where we denote by $S_j$ the action with only $x_j$-dependent terms, and the prime means updated:\n",
    "\n",
    "$$\n",
    "S_j=\\frac{1}{4a}\\left[\\left(x_j-x_{j-1}\\right)^2+\\left(x_{j+1}-x_j\\right)^2\\right]+a\\left(x_j^2-\\eta^2\\right)^2\n",
    "$$"
   ]
  },
  {
   "cell_type": "code",
   "execution_count": 5,
   "id": "221c3ad1",
   "metadata": {},
   "outputs": [],
   "source": [
    "# Function that evaluates the action of a given configuration considering only j-dependent terms\n",
    "def S(j,x):\n",
    "    if j == N-1:\n",
    "        Action = ((x[j]-x[j-1])**2 + (x[0]-x[j])**2)/(4*a) + a*(x[j]**2-eta**2)**2;       # Periodic boundary conditions\n",
    "    else:\n",
    "        Action = ((x[j]-x[j-1])**2 + (x[j+1]-x[j])**2)/(4*a) + a*(x[j]**2-eta**2)**2;\n",
    "    return Action"
   ]
  },
  {
   "cell_type": "markdown",
   "id": "52e71c14",
   "metadata": {},
   "source": [
    "### Initial configuration\n",
    "We can choose wether to start with a cold configuration $\\{x_i\\}^{(0)}=\\{0\\}$ or with a hot one $\\{x_i\\}^{(0)}=\\{r_i\\}$, where $r_i$ is a random variable."
   ]
  },
  {
   "cell_type": "code",
   "execution_count": 16,
   "id": "5f320d1d",
   "metadata": {},
   "outputs": [
    {
     "name": "stdout",
     "output_type": "stream",
     "text": [
      "Type C for cold start, H for hot start: C\n"
     ]
    }
   ],
   "source": [
    "# Generating the initial configuration\n",
    "x = np.zeros(N);\n",
    "\n",
    "while True:\n",
    "    choice = input(\"Type C for cold start, H for hot start: \")\n",
    "    if choice == \"C\":                          # Cold start configuration\n",
    "        break\n",
    "    elif choice == \"H\":\n",
    "        for i in range(N):\n",
    "            x[i] = x[i] + random.random();     # Hot start configuration\n",
    "        break"
   ]
  },
  {
   "cell_type": "markdown",
   "id": "b8b3ba57",
   "metadata": {},
   "source": [
    "### Metropolis algorithm\n",
    "The Metropolis method generates an ensemble of configurations $\\{x_i\\}^{(k)}$, where $i=1,\\dots,N$ labels the lattice points and $k=1,\\dots,N_{sweeps}$ the various configurations. The configurations are generated via a trial update $x_i^{(k+1)}=x_i^{(k)}+\\delta x$ performed for every lattice site, where $\\delta x$ is for instance a Gaussian random number with the width of the distribution $\\varepsilon$ adjusted such that the average acceptance rate for the trial updates is around $50\\%$. The trial update is accepted with probability:\n",
    "\n",
    "$$\n",
    "P\\left(x_i^{(k)}\\rightarrow x_i^{(k+1)}\\right)=\\mbox{min}\\left\\{e^{-\\Delta S}, 1\\right\\}\n",
    "$$\n",
    "\n",
    "A similar algorithm can be used to find the nearest classical solution to a given quantum one (the so called $\\textit{instanton solution}$), by accepting only the updates that lower the action, $\\Delta S<0$."
   ]
  },
  {
   "cell_type": "code",
   "execution_count": 7,
   "id": "ae9fa8a8",
   "metadata": {},
   "outputs": [
    {
     "name": "stdout",
     "output_type": "stream",
     "text": [
      "epsilon = \n"
     ]
    }
   ],
   "source": [
    "eps = float(input(\"epsilon = \") or 0.5);\n",
    "\n",
    "# Function that updates x according to Metropolis algorithm\n",
    "def update(x):\n",
    "    for j in range(N):\n",
    "        old_x = x[j];                                    # Save the original values\n",
    "        old_Sj = S(j,x);\n",
    "        x[j] = x[j] + random.gauss(0, eps);              # Update x[j]\n",
    "        dS = S(j,x) - old_Sj;                            # Change in action\n",
    "        if math.exp(-dS) < random.random():              # Metropolis acceptance criterium\n",
    "            x[j] = old_x;                                # Restore the old value in case the condition is not satisfied\n",
    "            \n",
    "# Function that updates x cooling the system\n",
    "def cooling(x):\n",
    "    for j in range(N):\n",
    "        old_x = x[j];                                    # Save the original values\n",
    "        old_Sj = S(j,x);\n",
    "        x[j] = x[j] + random.gauss(0, eps);              # Update x[j]\n",
    "        dS = S(j,x) - old_Sj;                            # Change in action\n",
    "        if dS > 0:                                       # Cooling condition\n",
    "            x[j] = old_x;                                # Restore the old value in case the condition is not satisfied"
   ]
  },
  {
   "cell_type": "markdown",
   "id": "1f187f0e",
   "metadata": {},
   "source": [
    "#### Sample path\n",
    "The following code returns an example of euclidean path, obtained after $N_{path}=500$ thermalization sweeps; the path is then cooled through $N_{cool}=100$ thermalization sweeps."
   ]
  },
  {
   "cell_type": "code",
   "execution_count": 8,
   "id": "0ac7d51e",
   "metadata": {},
   "outputs": [
    {
     "name": "stdout",
     "output_type": "stream",
     "text": [
      "Npath = \n",
      "Ncool = \n"
     ]
    },
    {
     "data": {
      "application/vnd.jupyter.widget-view+json": {
       "model_id": "18428f23edea47e58d194f86f409eb63",
       "version_major": 2,
       "version_minor": 0
      },
      "text/plain": [
       "  0%|          | 0/500 [00:00<?, ?it/s]"
      ]
     },
     "metadata": {},
     "output_type": "display_data"
    },
    {
     "data": {
      "application/vnd.jupyter.widget-view+json": {
       "model_id": "fdb5e747230a41fc8839cebe1fd6331b",
       "version_major": 2,
       "version_minor": 0
      },
      "text/plain": [
       "  0%|          | 0/100 [00:00<?, ?it/s]"
      ]
     },
     "metadata": {},
     "output_type": "display_data"
    },
    {
     "data": {
      "image/png": "[encoded data removed]",
      "text/plain": [
       "<Figure size 432x288 with 1 Axes>"
      ]
     },
     "metadata": {
      "needs_background": "light"
     },
     "output_type": "display_data"
    }
   ],
   "source": [
    "Npath = int(input(\"Npath = \") or 500);\n",
    "\n",
    "def Path(x):\n",
    "    for j in tqdm(range(Npath)):\n",
    "        update(x)\n",
    "    return x\n",
    "\n",
    "Ncool = int(input(\"Ncool = \") or 100);\n",
    "\n",
    "def CooledPath(x):\n",
    "    for j in tqdm(range(Ncool)):           # Cooling the path with Ncool steps\n",
    "        cooling(x)\n",
    "    return x\n",
    "\n",
    "x = Path(x);\n",
    "x_cooled = CooledPath(x);\n",
    "tau_vec = np.linspace(0, N*a, N);          # Total euclidean time obtained from lattice spacing a and from N\n",
    "\n",
    "fig, ax = plt.subplots()\n",
    "ax.plot(tau_vec, x, label = 'Monte Carlo');\n",
    "ax.plot(tau_vec, x_cooled, '.', label = 'Cooled');\n",
    "ax.set_xlabel('$\\\\tau$');\n",
    "ax.set_ylabel('$x(\\\\tau)$');\n",
    "plt.xlim([0, 40])\n",
    "plt.grid(linewidth=0.5);\n",
    "plt.title('Euclidean path for $\\eta =$'+str(eta));\n",
    "plt.legend()\n",
    "plt.show()"
   ]
  },
  {
   "cell_type": "markdown",
   "id": "82235ead",
   "metadata": {},
   "source": [
    "We see that for small $\\tau$ the system is controlled by the oscillation time $\\tau_{osc}$, while for large $\\tau$ it is governed by the tunneling time $\\tau_{tun}$. We can estimate:\n",
    "$$\n",
    "\\tau_{osc}\\sim \\frac{1}{4\\eta}\\qquad\\mbox{and}\\qquad \\tau_{tun}\\sim \\mbox{exp}\\left(-\\frac{4}{3}\\eta^3\\right)\n",
    "$$\n",
    "and in order to have a reliable simulation we should check that the lattice spacing is small compared to $\\tau_{osc}$ and the total length of the lattice $Na$ is much larger than the tunneling time:\n",
    "$$\n",
    "a\\ll \\tau_{osc}\\qquad\\mbox{and}\\qquad \\tau_{tun}\\ll Na\n",
    "$$\n",
    "In our case we have:"
   ]
  },
  {
   "cell_type": "code",
   "execution_count": 9,
   "id": "2c3022ac",
   "metadata": {},
   "outputs": [
    {
     "name": "stdout",
     "output_type": "stream",
     "text": [
      "a = 0.05           tau_osc = 0.179\n",
      "tau_tun = 0.026    N*a = 40.0\n"
     ]
    }
   ],
   "source": [
    "print(\"a = \" + str(a) + \"           tau_osc = \" + str(round(1/(4*eta), 3)))\n",
    "print(\"tau_tun = \" + str(round(math.exp(-4*eta**3/3), 3)) + \"    N*a = \" + str(N*a))"
   ]
  },
  {
   "cell_type": "markdown",
   "id": "1b78d0e9",
   "metadata": {},
   "source": [
    "### Correlation functions\n",
    "The two point correlation function of order $t$ is defined as follows:\n",
    "\n",
    "$$\n",
    "G_t^{(2)}(x, \\Delta\\tau)\\equiv \\langle [x(\\tau)]^t [x(\\tau+\\Delta\\tau)]^t\\rangle \\approx \\frac{1}{N}\\sum_{i=1}^N \\sum_{j\\in J}x_i^t x_j^t\n",
    "$$\n",
    "\n",
    "where $J=\\left\\{j: 0\\leq j\\leq N, j-i=\\Delta\\tau\\ \\mbox{mod } N\\right\\}$ and $x_i = x(\\tau_i)$, $\\tau_i = i\\Delta\\tau$. In the following we will consider $t=1, 2, \\dots, N_{cf}$ with $N_{cf}=3$ by default. Quantum mechanical averages are computed by averaging observables over many configurations:\n",
    "\n",
    "$$\n",
    "\\langle\\mathcal{O}\\rangle = \\lim_{N_{config}\\to \\infty}\\frac{1}{N_{config}}\\sum_{k=1}^{N_{config}}\\mathcal{O}^{(k)}\n",
    "$$\n",
    "\n",
    "The method allows to estimate the error in the measurement of $\\left<\\mathcal{O}\\right>$ from statistical fluctuations, under the assumption that the different configurations are statistically independent (which is to be verified by computing the auto-correlation time in successive measurements, and can be tuned by $N_{cor}$):\n",
    "\n",
    "$$\n",
    "\\Delta\\left<\\mathcal{O}\\right>=\\sqrt{\\frac{\\left<\\mathcal{O}^2\\right>-\\left<\\mathcal{O}\\right>^2}{N_{sweeps}}}\n",
    "$$\n",
    "\n",
    "We will therefore need to compute the mean value $\\left<\\mathcal{O}\\right>$ as well, and to consider one-point correlation functions as well:\n",
    "\n",
    "$$\n",
    "G_t^{(1)}(x)\\equiv \\langle [x(\\tau)]^t \\rangle \\approx \\frac{1}{N}\\sum_{i=1}^N x_i^t\n",
    "$$"
   ]
  },
  {
   "cell_type": "code",
   "execution_count": 18,
   "id": "872023ab",
   "metadata": {},
   "outputs": [
    {
     "name": "stdout",
     "output_type": "stream",
     "text": [
      "N of correlation functions = \n"
     ]
    },
    {
     "data": {
      "application/vnd.jupyter.widget-view+json": {
       "model_id": "e96aa592b74746d28af4509c5f971e28",
       "version_major": 2,
       "version_minor": 0
      },
      "text/plain": [
       "  0%|          | 0/100 [00:00<?, ?it/s]"
      ]
     },
     "metadata": {},
     "output_type": "display_data"
    }
   ],
   "source": [
    "Ncf = int(input(\"N of correlation functions = \") or 3);\n",
    "\n",
    "# Function that computes the two-point correlation function of order t\n",
    "def computeG2(x, dtau, t):\n",
    "    g = 0;                                     # Initialize the value of the correlation function\n",
    "    for j in range(N):\n",
    "        g = g + (x[j]**t)*(x[(j+dtau)%N]**t);  # Add all the terms satisfying the above condition for J\n",
    "    return g/N\n",
    "\n",
    "# Function that computes the Monte Carlo average\n",
    "def MCaverage(x):\n",
    "    G = np.zeros((Nsweeps, N, Ncf))            # Initialize the value of the two-point correlation function\n",
    "    G1 = np.zeros((Nsweeps, N, Ncf))           # Initialize the value of the one-point correlation function\n",
    "    \n",
    "    for j in range(5*Ncor):                    # Initial thermalization\n",
    "        update(x)\n",
    "    for k in tqdm(range(Nsweeps)):\n",
    "        for j in range(Ncor):                  # Thermalization steps between each measurement\n",
    "            update(x)\n",
    "        for t in range(Ncf):                   # Evaluate correlation functions of order t = 1, 2, ..., Ncf\n",
    "            for n in range(N):\n",
    "                G[k, n, t] = computeG2(x, n, t+1);\n",
    "                G1[k, n, t] = x[n]**t;\n",
    "\n",
    "    avg_G = np.zeros((N, Ncf));                # Initialize the value of the average\n",
    "    avg_G1 = avg_G;                            # (both for one- and two-point correlation functions)\n",
    "    \n",
    "    for n in range(N):                         # Compute the Monte Carlo average for each order t\n",
    "        for t in range(Ncf):\n",
    "            for k in range(Nsweeps):\n",
    "                avg_G[n, t] = avg_G[n, t] + G[k, n, t];          # Second-order correlation function\n",
    "                avg_G1[n, t] = avg_G1[n, t] + G1[k, n, t];       # First-order correlation function\n",
    "    avg_G = avg_G / Nsweeps;\n",
    "    avg_G1 = avg_G1 / Nsweeps;\n",
    "        \n",
    "    return [avg_G, avg_G1]\n",
    "\n",
    "\n",
    "# Computing the first Ncf correlation functions\n",
    "[G_two, G_one] = MCaverage(x)\n",
    "\n",
    "deltaG = np.sqrt(np.abs(G_two-np.power(G_one, 2)) / Nsweeps);          # Statistical error"
   ]
  },
  {
   "cell_type": "markdown",
   "id": "14fe02b8",
   "metadata": {},
   "source": [
    "#### Comparison with exact diagonalization\n",
    "The correlation functions can be also computed using exact diagonalization, in order to see wether the two different methods give the same result. Letting $O(\\tau)=x(\\tau)^t$, we have that the two-point correlation functions $G_t^{(2)}(x,\\tau)=\\left<O(0)O(\\tau)\\right>$ can be computed by inserting a complete set of states in the expectation value:\n",
    "\n",
    "$$\n",
    "G_t^{(2)}(x,\\tau)=\\sum_{n}\\left|\\left<0|O(0)|n\\right>\\right|^2\\ e^{-(E_n-E_0)\\tau}\n",
    "$$"
   ]
  },
  {
   "cell_type": "code",
   "execution_count": 51,
   "id": "1bf4aab9",
   "metadata": {},
   "outputs": [],
   "source": [
    "def ComputeG_exact(x):\n",
    "    G_exact = np.zeros((N, Ncf));\n",
    "\n",
    "    for n in range(10):\n",
    "        for t in range(Ncf):\n",
    "            for i in range(N):\n",
    "                G_exact[i, t] = G_exact[i, t] + (x[0]**t)**2 * np.exp(-np.abs(EigVals[n]-EigVals[0])*tau_vec[i]);\n",
    "                \n",
    "    return G_exact\n",
    "\n",
    "G_exact = ComputeG_exact(x);"
   ]
  },
  {
   "cell_type": "code",
   "execution_count": 52,
   "id": "0f3c6210",
   "metadata": {},
   "outputs": [
    {
     "data": {
      "image/png": "[encoded data removed]",
      "text/plain": [
       "<Figure size 432x288 with 1 Axes>"
      ]
     },
     "metadata": {
      "needs_background": "light"
     },
     "output_type": "display_data"
    }
   ],
   "source": [
    "# Plotting the correlation functions\n",
    "fig, ax = plt.subplots()\n",
    "\n",
    "for i in range(Ncf):\n",
    "    ax.plot(tau_vec, G_two[:,i], 'o', label = 't = '+str(i+1))\n",
    "    plt.errorbar(tau_vec, G_two[:,i], yerr = deltaG[:,i], xerr = None, fmt = 'None', ecolor = 'black')\n",
    "    \n",
    "    ax. plot(tau_vec, G_exact[:,i])\n",
    "\n",
    "ax.set_xlabel('$\\\\tau$');\n",
    "ax.set_ylabel('$G_t(x,\\Delta\\\\tau)$');\n",
    "plt.xlim([0, 1.5]);\n",
    "plt.grid(linewidth=0.5);\n",
    "plt.title('Correlation functions of order $t$ for $\\eta =$'+str(eta));\n",
    "plt.legend()\n",
    "plt.show()"
   ]
  },
  {
   "cell_type": "markdown",
   "id": "49a3abb5",
   "metadata": {},
   "source": [
    "#### Probability distribution\n",
    "The probability distribution $|\\psi(x)|^2$ computed exactly via diagonalization can be compared with the number of counts coming from the Monte Carlo simulation, upon scaling one of the two by a factor of $N$."
   ]
  },
  {
   "cell_type": "code",
   "execution_count": 19,
   "id": "98841d02",
   "metadata": {},
   "outputs": [
    {
     "data": {
      "image/png": "[encoded data removed]",
      "text/plain": [
       "<Figure size 432x288 with 1 Axes>"
      ]
     },
     "metadata": {
      "needs_background": "light"
     },
     "output_type": "display_data"
    }
   ],
   "source": [
    "psi_squared = np.power(np.abs(EigVecs[:,0]), 2)            # Computing the square modulus of the wavefunction\n",
    "norm = np.sum(EigVecs[:,0])                                # Normalization\n",
    "\n",
    "fig, ax = plt.subplots()\n",
    "ax.hist(x, 30, label = 'Monte Carlo');\n",
    "ax.plot(xvec, N*norm*psi_squared, label = 'Exact')         # Exact result from diagonalization, for comparison\n",
    "ax.set_xlabel('$x$');\n",
    "ax.set_ylabel('Number of counts');\n",
    "plt.grid(linewidth=0.5);\n",
    "plt.title('Probability distribution for $\\eta =$'+str(eta));\n",
    "plt.legend()\n",
    "plt.show()"
   ]
  },
  {
   "cell_type": "markdown",
   "id": "51016138",
   "metadata": {},
   "source": [
    "#### Logarithmic derivative of the correlation function\n"
   ]
  },
  {
   "cell_type": "code",
   "execution_count": 54,
   "id": "33b14534",
   "metadata": {},
   "outputs": [
    {
     "name": "stdout",
     "output_type": "stream",
     "text": [
      "Python implementation: CPython\n",
      "Python version       : 3.10.2\n",
      "IPython version      : 8.4.0\n",
      "\n",
      "matplotlib: 3.5.2\n",
      "numpy     : 1.22.2\n",
      "math      : unknown\n",
      "random    : unknown\n",
      "tqdm      : 4.64.0\n",
      "\n",
      "Compiler    : MSC v.1929 64 bit (AMD64)\n",
      "OS          : Windows\n",
      "Release     : 10\n",
      "Machine     : AMD64\n",
      "Processor   : Intel64 Family 6 Model 69 Stepping 1, GenuineIntel\n",
      "CPU cores   : 4\n",
      "Architecture: 64bit\n",
      "\n",
      " \n",
      "Last updated: Fri Aug 12 2022 12:36:31ora legale Europa occidentale\n",
      "\n"
     ]
    }
   ],
   "source": [
    "%load_ext watermark\n",
    "\n",
    "# python, ipython, packages, and machine characteristics\n",
    "%watermark -v -m -p matplotlib,numpy,math,random,tqdm \n",
    "\n",
    "# date\n",
    "print (\" \")\n",
    "%watermark -u -n -t -z "
   ]
  },
  {
   "cell_type": "code",
   "execution_count": null,
   "id": "2b024d9f",
   "metadata": {},
   "outputs": [],
   "source": []
  }
 ],
 "metadata": {
  "kernelspec": {
   "display_name": "Python 3 (ipykernel)",
   "language": "python",
   "name": "python3"
  },
  "language_info": {
   "codemirror_mode": {
    "name": "ipython",
    "version": 3
   },
   "file_extension": ".py",
   "mimetype": "text/x-python",
   "name": "python",
   "nbconvert_exporter": "python",
   "pygments_lexer": "ipython3",
   "version": "3.10.2"
  }
 },
 "nbformat": 4,
 "nbformat_minor": 5
}
