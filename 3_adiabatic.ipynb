{
 "cells": [
  {
   "cell_type": "markdown",
   "id": "5eae8c53",
   "metadata": {},
   "source": [
    "# Adiabatic switching in Quantum Monte Carlo\n",
    "The programme computes the free energy for the double well potential $V(x)=\\lambda(x^2-\\eta^2)^2$ adopting the adiabatic switching method.\n",
    "\n",
    "Input parameters, with default values:\n",
    "- potential parameters: $\\lambda=1$, $\\eta=1.4$\n",
    "- mass of the particle: $m=0.5$\n",
    "- number of lattice points to start with: $N=20$\n",
    "- lattice spacing: $a=0.05$\n",
    "- number of Metropolis configurations: $N_{sweeps}=100$\n",
    "- number of sweeps between each measurement: $N_{cor}=100$\n",
    "- number of iterations $n$ in $N$, with $N(n)=N\\cdot 2^n$, starting from $n=0$: $n=6$\n",
    "- oscillator constant of the reference system: $\\omega_0=4\\eta=5.6$\n",
    "- number of steps in adiabatic switching: $N_{switch}=20$"
   ]
  },
  {
   "cell_type": "code",
   "execution_count": 1,
   "id": "38b6ea95",
   "metadata": {},
   "outputs": [],
   "source": [
    "import matplotlib.pyplot as plt\n",
    "import numpy as np\n",
    "from numpy import linalg as LA\n",
    "import math\n",
    "import random\n",
    "from tqdm.notebook import tqdm"
   ]
  },
  {
   "cell_type": "code",
   "execution_count": 2,
   "id": "000d10a8",
   "metadata": {},
   "outputs": [
    {
     "name": "stdout",
     "output_type": "stream",
     "text": [
      "lambda = \n",
      "eta = \n",
      "m = \n"
     ]
    }
   ],
   "source": [
    "# Parameters of the potential\n",
    "Lambda = float(input(\"lambda = \") or 1);\n",
    "eta = float(input(\"eta = \") or 1.4);\n",
    "m = float(input(\"m = \") or 1/2);\n",
    "hbar = 1;"
   ]
  },
  {
   "cell_type": "code",
   "execution_count": 80,
   "id": "cfcbf184",
   "metadata": {},
   "outputs": [
    {
     "name": "stdout",
     "output_type": "stream",
     "text": [
      "N = \n",
      "a = \n",
      "Nsweeps = \n",
      "Ncorrelation = \n"
     ]
    }
   ],
   "source": [
    "# Lattice parameters\n",
    "N = int(input(\"N = \") or 20);\n",
    "a = float(input(\"a = \") or 0.05);\n",
    "Nsweeps = int(input(\"Nsweeps = \") or 100);\n",
    "Ncor = int(input(\"Ncorrelation = \") or 100);"
   ]
  },
  {
   "cell_type": "code",
   "execution_count": 4,
   "id": "e7fea5e9",
   "metadata": {},
   "outputs": [
    {
     "name": "stdout",
     "output_type": "stream",
     "text": [
      "n = \n",
      "omega0 = \n",
      "Nswitch = \n"
     ]
    }
   ],
   "source": [
    "# Additional parameters\n",
    "n = int(input(\"n = \") or 6);                  # Number of iterations in N\n",
    "w0 = float(input(\"omega0 = \") or 4*eta);      # Oscillator constant of the reference system\n",
    "Nswitch = int(input(\"Nswitch = \") or 20);     # Number of steps in adiabatic switching"
   ]
  },
  {
   "cell_type": "code",
   "execution_count": 5,
   "id": "213d7f0f",
   "metadata": {},
   "outputs": [
    {
     "name": "stdout",
     "output_type": "stream",
     "text": [
      "epsilon = \n"
     ]
    }
   ],
   "source": [
    "eps = float(input(\"epsilon = \") or 0.1);\n",
    "\n",
    "# Function that updates x according to Metropolis algorithm\n",
    "def update(x, alpha, N):\n",
    "    \n",
    "    for j in range(N):\n",
    "        old_x = x[j];                                    # Save the original values\n",
    "        old_Sj, deltaS = S(j, x, alpha, N);\n",
    "        x[j] = x[j] + random.gauss(0, eps);              # Update x[j]\n",
    "        new_Sj, deltaS = S(j, x, alpha, N)\n",
    "        dS = new_Sj - old_Sj;                            # Change in action\n",
    "        \n",
    "        if np.exp(-dS) < random.random():                # Metropolis acceptance criterium\n",
    "            x[j] = old_x;                                # Restore the old value in case the condition is not satisfied"
   ]
  },
  {
   "cell_type": "markdown",
   "id": "6e63b85b",
   "metadata": {},
   "source": [
    "## Adiabatic switching\n",
    "An effective method to compute the free energy of the system $S$ is to start from a reference system whose free energy is known, and whose action we denote by $S_0$, and then consider the action:\n",
    "\n",
    "$$\n",
    "S_\\alpha = S_0 + \\alpha\\Delta S\\qquad\\qquad \\Delta S = S-S_0\n",
    "$$\n",
    "\n",
    "which interpolates between the actual system and the reference one, being $\\alpha\\in [0,1]$. By integrating we find;\n",
    "\n",
    "$$\n",
    "\\frac{\\partial}{\\partial\\alpha}\\log{Z(\\alpha)}=-\\left<\\Delta S\\right>_\\alpha\\qquad\\longrightarrow\\qquad\n",
    "\\log{(Z(\\alpha=1))}=\\log{(Z(\\alpha=0))}-\\int_0^1 d\\alpha' \\left<\\Delta S\\right>_{\\alpha'}\n",
    "$$\n",
    "\n",
    "where the expectation value is computed with respect to the action $S_\\alpha$. In our case, the simplest reference system we can choose is the harmonic oscillator, for which we know that:\n",
    "\n",
    "$$\n",
    "V(x)=\\frac{1}{2}m\\omega_0^2x^2, \\qquad E_n=\\omega_0\\left(n+\\frac{1}{2}\\right) \\qquad\\longrightarrow\\qquad\n",
    "Z(\\alpha=0) = \\sum_n e^{-\\beta E_n} = \\frac{e^{-\\beta\\omega_0/2}}{1-e^{-\\beta\\omega_0}}\n",
    "$$\n",
    "\n",
    "The evaluation of the action can be again limited by $j$-dependent terms, but now we need as an output the variation $\\Delta S_j$ as well. To get the overall variation, it is then simple to see that $\\Delta S=\\sum_j \\Delta S_j$."
   ]
  },
  {
   "cell_type": "code",
   "execution_count": 6,
   "id": "8cbab088",
   "metadata": {},
   "outputs": [],
   "source": [
    "# Function that evaluates the action of a given configuration considering only j-dependent terms\n",
    "def S(j, x, alpha, N):\n",
    "    \n",
    "    if j == N-1:\n",
    "        Kin = ((x[j]-x[j-1])**2 + (x[0]-x[j])**2)/(4*a);       # Periodic boundary conditions\n",
    "    else:\n",
    "        Kin = ((x[j]-x[j-1])**2 + (x[j+1]-x[j])**2)/(4*a);\n",
    "            \n",
    "    V0 = 1/2*m*w0**2*x[j]**2;                                  # Reference system potential (harmonic oscillator)\n",
    "    V1 = (x[j]**2 - eta**2)**2;                                # Double well potential\n",
    "    \n",
    "    V = alpha*(V1-V0) + V0;                                    # Interpolation between the two\n",
    "    Action = Kin + a*V;\n",
    "    deltaS = a*(V1-V0);                                        # Difference in action in the two cases\n",
    "                                                               # (only for j-dependent terms)\n",
    "    return Action, deltaS"
   ]
  },
  {
   "cell_type": "markdown",
   "id": "ca44323f",
   "metadata": {},
   "source": [
    "### Free energy computation\n",
    "The following loop over the coupling constant $\\alpha$ allows to compute the value of the free energy $F=-T\\log{Z}$ for different temperatures $T$. Since $T=\\beta^{-1}$, where $\\beta$ is the total euclidean time, and $\\beta=Na$, we can vary $T$ by changing the number of steps $N$ for each iteration (another possibility would be to change the lattice spacing $a$, but this turns out to be much more time consuming)."
   ]
  },
  {
   "cell_type": "code",
   "execution_count": null,
   "id": "2b4b409e",
   "metadata": {
    "scrolled": true
   },
   "outputs": [
    {
     "data": {
      "application/vnd.jupyter.widget-view+json": {
       "model_id": "17c7cc6ba6864195aa9eba9393b7d5c0",
       "version_major": 2,
       "version_minor": 0
      },
      "text/plain": [
       "  0%|          | 0/6 [00:00<?, ?it/s]"
      ]
     },
     "metadata": {},
     "output_type": "display_data"
    },
    {
     "data": {
      "application/vnd.jupyter.widget-view+json": {
       "model_id": "",
       "version_major": 2,
       "version_minor": 0
      },
      "text/plain": [
       "  0%|          | 0/41 [00:00<?, ?it/s]"
      ]
     },
     "metadata": {},
     "output_type": "display_data"
    },
    {
     "data": {
      "application/vnd.jupyter.widget-view+json": {
       "model_id": "",
       "version_major": 2,
       "version_minor": 0
      },
      "text/plain": [
       "  0%|          | 0/100 [00:00<?, ?it/s]"
      ]
     },
     "metadata": {},
     "output_type": "display_data"
    },
    {
     "data": {
      "application/vnd.jupyter.widget-view+json": {
       "model_id": "",
       "version_major": 2,
       "version_minor": 0
      },
      "text/plain": [
       "  0%|          | 0/100 [00:00<?, ?it/s]"
      ]
     },
     "metadata": {},
     "output_type": "display_data"
    },
    {
     "data": {
      "application/vnd.jupyter.widget-view+json": {
       "model_id": "",
       "version_major": 2,
       "version_minor": 0
      },
      "text/plain": [
       "  0%|          | 0/100 [00:00<?, ?it/s]"
      ]
     },
     "metadata": {},
     "output_type": "display_data"
    },
    {
     "data": {
      "application/vnd.jupyter.widget-view+json": {
       "model_id": "",
       "version_major": 2,
       "version_minor": 0
      },
      "text/plain": [
       "  0%|          | 0/100 [00:00<?, ?it/s]"
      ]
     },
     "metadata": {},
     "output_type": "display_data"
    },
    {
     "data": {
      "application/vnd.jupyter.widget-view+json": {
       "model_id": "",
       "version_major": 2,
       "version_minor": 0
      },
      "text/plain": [
       "  0%|          | 0/100 [00:00<?, ?it/s]"
      ]
     },
     "metadata": {},
     "output_type": "display_data"
    },
    {
     "data": {
      "application/vnd.jupyter.widget-view+json": {
       "model_id": "",
       "version_major": 2,
       "version_minor": 0
      },
      "text/plain": [
       "  0%|          | 0/100 [00:00<?, ?it/s]"
      ]
     },
     "metadata": {},
     "output_type": "display_data"
    },
    {
     "data": {
      "application/vnd.jupyter.widget-view+json": {
       "model_id": "",
       "version_major": 2,
       "version_minor": 0
      },
      "text/plain": [
       "  0%|          | 0/100 [00:00<?, ?it/s]"
      ]
     },
     "metadata": {},
     "output_type": "display_data"
    },
    {
     "data": {
      "application/vnd.jupyter.widget-view+json": {
       "model_id": "",
       "version_major": 2,
       "version_minor": 0
      },
      "text/plain": [
       "  0%|          | 0/100 [00:00<?, ?it/s]"
      ]
     },
     "metadata": {},
     "output_type": "display_data"
    },
    {
     "data": {
      "application/vnd.jupyter.widget-view+json": {
       "model_id": "",
       "version_major": 2,
       "version_minor": 0
      },
      "text/plain": [
       "  0%|          | 0/100 [00:00<?, ?it/s]"
      ]
     },
     "metadata": {},
     "output_type": "display_data"
    },
    {
     "data": {
      "application/vnd.jupyter.widget-view+json": {
       "model_id": "",
       "version_major": 2,
       "version_minor": 0
      },
      "text/plain": [
       "  0%|          | 0/100 [00:00<?, ?it/s]"
      ]
     },
     "metadata": {},
     "output_type": "display_data"
    },
    {
     "data": {
      "application/vnd.jupyter.widget-view+json": {
       "model_id": "",
       "version_major": 2,
       "version_minor": 0
      },
      "text/plain": [
       "  0%|          | 0/100 [00:00<?, ?it/s]"
      ]
     },
     "metadata": {},
     "output_type": "display_data"
    },
    {
     "data": {
      "application/vnd.jupyter.widget-view+json": {
       "model_id": "",
       "version_major": 2,
       "version_minor": 0
      },
      "text/plain": [
       "  0%|          | 0/100 [00:00<?, ?it/s]"
      ]
     },
     "metadata": {},
     "output_type": "display_data"
    },
    {
     "data": {
      "application/vnd.jupyter.widget-view+json": {
       "model_id": "",
       "version_major": 2,
       "version_minor": 0
      },
      "text/plain": [
       "  0%|          | 0/100 [00:00<?, ?it/s]"
      ]
     },
     "metadata": {},
     "output_type": "display_data"
    },
    {
     "data": {
      "application/vnd.jupyter.widget-view+json": {
       "model_id": "",
       "version_major": 2,
       "version_minor": 0
      },
      "text/plain": [
       "  0%|          | 0/100 [00:00<?, ?it/s]"
      ]
     },
     "metadata": {},
     "output_type": "display_data"
    },
    {
     "data": {
      "application/vnd.jupyter.widget-view+json": {
       "model_id": "",
       "version_major": 2,
       "version_minor": 0
      },
      "text/plain": [
       "  0%|          | 0/100 [00:00<?, ?it/s]"
      ]
     },
     "metadata": {},
     "output_type": "display_data"
    },
    {
     "data": {
      "application/vnd.jupyter.widget-view+json": {
       "model_id": "",
       "version_major": 2,
       "version_minor": 0
      },
      "text/plain": [
       "  0%|          | 0/100 [00:00<?, ?it/s]"
      ]
     },
     "metadata": {},
     "output_type": "display_data"
    },
    {
     "data": {
      "application/vnd.jupyter.widget-view+json": {
       "model_id": "",
       "version_major": 2,
       "version_minor": 0
      },
      "text/plain": [
       "  0%|          | 0/100 [00:00<?, ?it/s]"
      ]
     },
     "metadata": {},
     "output_type": "display_data"
    },
    {
     "data": {
      "application/vnd.jupyter.widget-view+json": {
       "model_id": "",
       "version_major": 2,
       "version_minor": 0
      },
      "text/plain": [
       "  0%|          | 0/100 [00:00<?, ?it/s]"
      ]
     },
     "metadata": {},
     "output_type": "display_data"
    },
    {
     "data": {
      "application/vnd.jupyter.widget-view+json": {
       "model_id": "",
       "version_major": 2,
       "version_minor": 0
      },
      "text/plain": [
       "  0%|          | 0/100 [00:00<?, ?it/s]"
      ]
     },
     "metadata": {},
     "output_type": "display_data"
    },
    {
     "data": {
      "application/vnd.jupyter.widget-view+json": {
       "model_id": "",
       "version_major": 2,
       "version_minor": 0
      },
      "text/plain": [
       "  0%|          | 0/100 [00:00<?, ?it/s]"
      ]
     },
     "metadata": {},
     "output_type": "display_data"
    },
    {
     "data": {
      "application/vnd.jupyter.widget-view+json": {
       "model_id": "",
       "version_major": 2,
       "version_minor": 0
      },
      "text/plain": [
       "  0%|          | 0/100 [00:00<?, ?it/s]"
      ]
     },
     "metadata": {},
     "output_type": "display_data"
    },
    {
     "data": {
      "application/vnd.jupyter.widget-view+json": {
       "model_id": "",
       "version_major": 2,
       "version_minor": 0
      },
      "text/plain": [
       "  0%|          | 0/100 [00:00<?, ?it/s]"
      ]
     },
     "metadata": {},
     "output_type": "display_data"
    },
    {
     "data": {
      "application/vnd.jupyter.widget-view+json": {
       "model_id": "",
       "version_major": 2,
       "version_minor": 0
      },
      "text/plain": [
       "  0%|          | 0/100 [00:00<?, ?it/s]"
      ]
     },
     "metadata": {},
     "output_type": "display_data"
    },
    {
     "data": {
      "application/vnd.jupyter.widget-view+json": {
       "model_id": "",
       "version_major": 2,
       "version_minor": 0
      },
      "text/plain": [
       "  0%|          | 0/100 [00:00<?, ?it/s]"
      ]
     },
     "metadata": {},
     "output_type": "display_data"
    },
    {
     "data": {
      "application/vnd.jupyter.widget-view+json": {
       "model_id": "",
       "version_major": 2,
       "version_minor": 0
      },
      "text/plain": [
       "  0%|          | 0/100 [00:00<?, ?it/s]"
      ]
     },
     "metadata": {},
     "output_type": "display_data"
    },
    {
     "data": {
      "application/vnd.jupyter.widget-view+json": {
       "model_id": "",
       "version_major": 2,
       "version_minor": 0
      },
      "text/plain": [
       "  0%|          | 0/100 [00:00<?, ?it/s]"
      ]
     },
     "metadata": {},
     "output_type": "display_data"
    },
    {
     "data": {
      "application/vnd.jupyter.widget-view+json": {
       "model_id": "",
       "version_major": 2,
       "version_minor": 0
      },
      "text/plain": [
       "  0%|          | 0/100 [00:00<?, ?it/s]"
      ]
     },
     "metadata": {},
     "output_type": "display_data"
    },
    {
     "data": {
      "application/vnd.jupyter.widget-view+json": {
       "model_id": "",
       "version_major": 2,
       "version_minor": 0
      },
      "text/plain": [
       "  0%|          | 0/100 [00:00<?, ?it/s]"
      ]
     },
     "metadata": {},
     "output_type": "display_data"
    },
    {
     "data": {
      "application/vnd.jupyter.widget-view+json": {
       "model_id": "",
       "version_major": 2,
       "version_minor": 0
      },
      "text/plain": [
       "  0%|          | 0/100 [00:00<?, ?it/s]"
      ]
     },
     "metadata": {},
     "output_type": "display_data"
    },
    {
     "data": {
      "application/vnd.jupyter.widget-view+json": {
       "model_id": "",
       "version_major": 2,
       "version_minor": 0
      },
      "text/plain": [
       "  0%|          | 0/100 [00:00<?, ?it/s]"
      ]
     },
     "metadata": {},
     "output_type": "display_data"
    },
    {
     "data": {
      "application/vnd.jupyter.widget-view+json": {
       "model_id": "",
       "version_major": 2,
       "version_minor": 0
      },
      "text/plain": [
       "  0%|          | 0/100 [00:00<?, ?it/s]"
      ]
     },
     "metadata": {},
     "output_type": "display_data"
    },
    {
     "data": {
      "application/vnd.jupyter.widget-view+json": {
       "model_id": "",
       "version_major": 2,
       "version_minor": 0
      },
      "text/plain": [
       "  0%|          | 0/100 [00:00<?, ?it/s]"
      ]
     },
     "metadata": {},
     "output_type": "display_data"
    },
    {
     "data": {
      "application/vnd.jupyter.widget-view+json": {
       "model_id": "",
       "version_major": 2,
       "version_minor": 0
      },
      "text/plain": [
       "  0%|          | 0/100 [00:00<?, ?it/s]"
      ]
     },
     "metadata": {},
     "output_type": "display_data"
    },
    {
     "data": {
      "application/vnd.jupyter.widget-view+json": {
       "model_id": "",
       "version_major": 2,
       "version_minor": 0
      },
      "text/plain": [
       "  0%|          | 0/100 [00:00<?, ?it/s]"
      ]
     },
     "metadata": {},
     "output_type": "display_data"
    },
    {
     "data": {
      "application/vnd.jupyter.widget-view+json": {
       "model_id": "",
       "version_major": 2,
       "version_minor": 0
      },
      "text/plain": [
       "  0%|          | 0/100 [00:00<?, ?it/s]"
      ]
     },
     "metadata": {},
     "output_type": "display_data"
    },
    {
     "data": {
      "application/vnd.jupyter.widget-view+json": {
       "model_id": "",
       "version_major": 2,
       "version_minor": 0
      },
      "text/plain": [
       "  0%|          | 0/100 [00:00<?, ?it/s]"
      ]
     },
     "metadata": {},
     "output_type": "display_data"
    },
    {
     "data": {
      "application/vnd.jupyter.widget-view+json": {
       "model_id": "",
       "version_major": 2,
       "version_minor": 0
      },
      "text/plain": [
       "  0%|          | 0/100 [00:00<?, ?it/s]"
      ]
     },
     "metadata": {},
     "output_type": "display_data"
    },
    {
     "data": {
      "application/vnd.jupyter.widget-view+json": {
       "model_id": "",
       "version_major": 2,
       "version_minor": 0
      },
      "text/plain": [
       "  0%|          | 0/100 [00:00<?, ?it/s]"
      ]
     },
     "metadata": {},
     "output_type": "display_data"
    },
    {
     "data": {
      "application/vnd.jupyter.widget-view+json": {
       "model_id": "",
       "version_major": 2,
       "version_minor": 0
      },
      "text/plain": [
       "  0%|          | 0/100 [00:00<?, ?it/s]"
      ]
     },
     "metadata": {},
     "output_type": "display_data"
    },
    {
     "data": {
      "application/vnd.jupyter.widget-view+json": {
       "model_id": "",
       "version_major": 2,
       "version_minor": 0
      },
      "text/plain": [
       "  0%|          | 0/100 [00:00<?, ?it/s]"
      ]
     },
     "metadata": {},
     "output_type": "display_data"
    },
    {
     "data": {
      "application/vnd.jupyter.widget-view+json": {
       "model_id": "",
       "version_major": 2,
       "version_minor": 0
      },
      "text/plain": [
       "  0%|          | 0/100 [00:00<?, ?it/s]"
      ]
     },
     "metadata": {},
     "output_type": "display_data"
    },
    {
     "name": "stdout",
     "output_type": "stream",
     "text": [
      "1 = -1.6727542344883606                2 = -0.7177378885508373\n",
      "[  1.89044454   1.7008488    1.23642431   0.70477719   1.61322493\n",
      "   1.40128356   1.75688512   1.58494808   1.41800717   0.63142473\n",
      "  -1.32236127  -1.00645052   0.05319961  -1.7915604   -5.65417835\n",
      "  -0.98932881  -4.20255972 -10.35850469  -8.66219482  -6.82626535\n",
      " -11.37585306  -5.83294056  -4.6756657   -4.45815699  -0.06668826\n",
      "  -1.71543764   0.06831088  -2.60186223  -1.5493762    0.41716154\n",
      "   0.63237695   0.43058793   1.36673311   0.50993491   1.62823389\n",
      "   0.99389861   0.53924928   1.48467464   1.66533402   1.576525\n",
      "   1.84055117]\n"
     ]
    },
    {
     "data": {
      "application/vnd.jupyter.widget-view+json": {
       "model_id": "99470cfe864f40e191cce6925111ebc2",
       "version_major": 2,
       "version_minor": 0
      },
      "text/plain": [
       "  0%|          | 0/41 [00:00<?, ?it/s]"
      ]
     },
     "metadata": {},
     "output_type": "display_data"
    },
    {
     "data": {
      "application/vnd.jupyter.widget-view+json": {
       "model_id": "",
       "version_major": 2,
       "version_minor": 0
      },
      "text/plain": [
       "  0%|          | 0/100 [00:00<?, ?it/s]"
      ]
     },
     "metadata": {},
     "output_type": "display_data"
    },
    {
     "data": {
      "application/vnd.jupyter.widget-view+json": {
       "model_id": "",
       "version_major": 2,
       "version_minor": 0
      },
      "text/plain": [
       "  0%|          | 0/100 [00:00<?, ?it/s]"
      ]
     },
     "metadata": {},
     "output_type": "display_data"
    },
    {
     "data": {
      "application/vnd.jupyter.widget-view+json": {
       "model_id": "",
       "version_major": 2,
       "version_minor": 0
      },
      "text/plain": [
       "  0%|          | 0/100 [00:00<?, ?it/s]"
      ]
     },
     "metadata": {},
     "output_type": "display_data"
    },
    {
     "data": {
      "application/vnd.jupyter.widget-view+json": {
       "model_id": "",
       "version_major": 2,
       "version_minor": 0
      },
      "text/plain": [
       "  0%|          | 0/100 [00:00<?, ?it/s]"
      ]
     },
     "metadata": {},
     "output_type": "display_data"
    },
    {
     "data": {
      "application/vnd.jupyter.widget-view+json": {
       "model_id": "",
       "version_major": 2,
       "version_minor": 0
      },
      "text/plain": [
       "  0%|          | 0/100 [00:00<?, ?it/s]"
      ]
     },
     "metadata": {},
     "output_type": "display_data"
    },
    {
     "data": {
      "application/vnd.jupyter.widget-view+json": {
       "model_id": "",
       "version_major": 2,
       "version_minor": 0
      },
      "text/plain": [
       "  0%|          | 0/100 [00:00<?, ?it/s]"
      ]
     },
     "metadata": {},
     "output_type": "display_data"
    },
    {
     "data": {
      "application/vnd.jupyter.widget-view+json": {
       "model_id": "",
       "version_major": 2,
       "version_minor": 0
      },
      "text/plain": [
       "  0%|          | 0/100 [00:00<?, ?it/s]"
      ]
     },
     "metadata": {},
     "output_type": "display_data"
    },
    {
     "data": {
      "application/vnd.jupyter.widget-view+json": {
       "model_id": "",
       "version_major": 2,
       "version_minor": 0
      },
      "text/plain": [
       "  0%|          | 0/100 [00:00<?, ?it/s]"
      ]
     },
     "metadata": {},
     "output_type": "display_data"
    },
    {
     "data": {
      "application/vnd.jupyter.widget-view+json": {
       "model_id": "",
       "version_major": 2,
       "version_minor": 0
      },
      "text/plain": [
       "  0%|          | 0/100 [00:00<?, ?it/s]"
      ]
     },
     "metadata": {},
     "output_type": "display_data"
    },
    {
     "data": {
      "application/vnd.jupyter.widget-view+json": {
       "model_id": "",
       "version_major": 2,
       "version_minor": 0
      },
      "text/plain": [
       "  0%|          | 0/100 [00:00<?, ?it/s]"
      ]
     },
     "metadata": {},
     "output_type": "display_data"
    },
    {
     "data": {
      "application/vnd.jupyter.widget-view+json": {
       "model_id": "",
       "version_major": 2,
       "version_minor": 0
      },
      "text/plain": [
       "  0%|          | 0/100 [00:00<?, ?it/s]"
      ]
     },
     "metadata": {},
     "output_type": "display_data"
    },
    {
     "data": {
      "application/vnd.jupyter.widget-view+json": {
       "model_id": "",
       "version_major": 2,
       "version_minor": 0
      },
      "text/plain": [
       "  0%|          | 0/100 [00:00<?, ?it/s]"
      ]
     },
     "metadata": {},
     "output_type": "display_data"
    },
    {
     "data": {
      "application/vnd.jupyter.widget-view+json": {
       "model_id": "",
       "version_major": 2,
       "version_minor": 0
      },
      "text/plain": [
       "  0%|          | 0/100 [00:00<?, ?it/s]"
      ]
     },
     "metadata": {},
     "output_type": "display_data"
    },
    {
     "data": {
      "application/vnd.jupyter.widget-view+json": {
       "model_id": "",
       "version_major": 2,
       "version_minor": 0
      },
      "text/plain": [
       "  0%|          | 0/100 [00:00<?, ?it/s]"
      ]
     },
     "metadata": {},
     "output_type": "display_data"
    },
    {
     "data": {
      "application/vnd.jupyter.widget-view+json": {
       "model_id": "",
       "version_major": 2,
       "version_minor": 0
      },
      "text/plain": [
       "  0%|          | 0/100 [00:00<?, ?it/s]"
      ]
     },
     "metadata": {},
     "output_type": "display_data"
    },
    {
     "data": {
      "application/vnd.jupyter.widget-view+json": {
       "model_id": "",
       "version_major": 2,
       "version_minor": 0
      },
      "text/plain": [
       "  0%|          | 0/100 [00:00<?, ?it/s]"
      ]
     },
     "metadata": {},
     "output_type": "display_data"
    },
    {
     "data": {
      "application/vnd.jupyter.widget-view+json": {
       "model_id": "",
       "version_major": 2,
       "version_minor": 0
      },
      "text/plain": [
       "  0%|          | 0/100 [00:00<?, ?it/s]"
      ]
     },
     "metadata": {},
     "output_type": "display_data"
    },
    {
     "data": {
      "application/vnd.jupyter.widget-view+json": {
       "model_id": "",
       "version_major": 2,
       "version_minor": 0
      },
      "text/plain": [
       "  0%|          | 0/100 [00:00<?, ?it/s]"
      ]
     },
     "metadata": {},
     "output_type": "display_data"
    },
    {
     "data": {
      "application/vnd.jupyter.widget-view+json": {
       "model_id": "",
       "version_major": 2,
       "version_minor": 0
      },
      "text/plain": [
       "  0%|          | 0/100 [00:00<?, ?it/s]"
      ]
     },
     "metadata": {},
     "output_type": "display_data"
    },
    {
     "data": {
      "application/vnd.jupyter.widget-view+json": {
       "model_id": "",
       "version_major": 2,
       "version_minor": 0
      },
      "text/plain": [
       "  0%|          | 0/100 [00:00<?, ?it/s]"
      ]
     },
     "metadata": {},
     "output_type": "display_data"
    },
    {
     "data": {
      "application/vnd.jupyter.widget-view+json": {
       "model_id": "",
       "version_major": 2,
       "version_minor": 0
      },
      "text/plain": [
       "  0%|          | 0/100 [00:00<?, ?it/s]"
      ]
     },
     "metadata": {},
     "output_type": "display_data"
    },
    {
     "data": {
      "application/vnd.jupyter.widget-view+json": {
       "model_id": "",
       "version_major": 2,
       "version_minor": 0
      },
      "text/plain": [
       "  0%|          | 0/100 [00:00<?, ?it/s]"
      ]
     },
     "metadata": {},
     "output_type": "display_data"
    },
    {
     "data": {
      "application/vnd.jupyter.widget-view+json": {
       "model_id": "",
       "version_major": 2,
       "version_minor": 0
      },
      "text/plain": [
       "  0%|          | 0/100 [00:00<?, ?it/s]"
      ]
     },
     "metadata": {},
     "output_type": "display_data"
    },
    {
     "data": {
      "application/vnd.jupyter.widget-view+json": {
       "model_id": "",
       "version_major": 2,
       "version_minor": 0
      },
      "text/plain": [
       "  0%|          | 0/100 [00:00<?, ?it/s]"
      ]
     },
     "metadata": {},
     "output_type": "display_data"
    },
    {
     "data": {
      "application/vnd.jupyter.widget-view+json": {
       "model_id": "d8356f221df64e2496efeb183260e14d",
       "version_major": 2,
       "version_minor": 0
      },
      "text/plain": [
       "  0%|          | 0/100 [00:00<?, ?it/s]"
      ]
     },
     "metadata": {},
     "output_type": "display_data"
    }
   ],
   "source": [
    "# Initialize the vectors needed\n",
    "mean_deltaS = np.zeros([2*Nswitch+1, n]);         # Mean value of the difference in action\n",
    "alpha_vec = np.zeros(2*Nswitch+1);                # Values of alpha explored\n",
    "\n",
    "integral_dS1 = np.zeros(n);                       # Integrals of the mean value, forward and backward\n",
    "integral_dS2 = np.zeros(n);\n",
    "\n",
    "logZ_vec = np.zeros(n);                           # Logarithm of the partition function\n",
    "T_vec = np.zeros(n);                              # Temperature\n",
    "F_vec = np.zeros(n);                              # Free energy\n",
    "\n",
    "N0 = int(N);                                      # Variable N\n",
    "\n",
    "for iT in tqdm(range(n), leave = False):\n",
    "    dalpha = 1/Nswitch;                           # Lattice separation in alpha space\n",
    "    beta = N0*a;                                  # Total euclidean time\n",
    "    T_vec[iT] = 1/beta;                           # Corresponding temperature\n",
    "    \n",
    "    x = np.zeros(N0);                             # Cold start\n",
    "    \n",
    "    for ialpha in tqdm(range(2*Nswitch+1), leave = False):      # Loop on twice the number of steps\n",
    "        if ialpha < Nswitch:                                    # Building the coupling constant vector\n",
    "            alpha = ialpha*dalpha;                              # (from 0 to 1 and then from 1 to 0)\n",
    "            alpha_vec[ialpha] = alpha;\n",
    "        else:\n",
    "            alpha = 2-ialpha*dalpha;\n",
    "            alpha_vec[ialpha] = alpha; \n",
    "\n",
    "        for j in range(5*Ncor):                                # Initial thermalization\n",
    "            update(x, alpha, N0);\n",
    "        for k in tqdm(range(Nsweeps), leave = False):\n",
    "            for j in range(Ncor):                              # Thermalization steps between each measurement\n",
    "                update(x, alpha, N0);\n",
    "\n",
    "            deltaS = 0;                                        # Compute the difference in action\n",
    "            for j in range(N0):                                # Sum over all lattice points\n",
    "                _, deltaSj = S(j, x, alpha, N0);\n",
    "                deltaS = deltaS + deltaSj;\n",
    "            \n",
    "            mean_deltaS[ialpha, iT] = mean_deltaS[ialpha, iT] + deltaS;\n",
    "\n",
    "    mean_deltaS[:, iT] = mean_deltaS[:, iT] / Nsweeps;         # Compute the mean value over configurations\n",
    "\n",
    "    # Integration with trapeziodal rule of the mean values w.r.t. alpha\n",
    "    # (1 is in going forward, 2 in going backward, so it has to be summed with opposite sign)\n",
    "    integral_dS1[iT] = np.trapz(mean_deltaS[0:Nswitch+1, iT], alpha_vec[0:Nswitch+1]);\n",
    "    integral_dS2[iT] = - np.trapz(mean_deltaS[Nswitch:2*Nswitch+1, iT], alpha_vec[Nswitch:2*Nswitch+1]);\n",
    "\n",
    "    Z0 = np.exp(-beta*w0/2) / (1-np.exp(-beta*w0));                            # Partition function of the reference system \n",
    "    \n",
    "    logZ_vec[iT] = np.log(Z0) - (integral_dS1[iT] + integral_dS2[iT])/2;       # Adiabatic switching formula\n",
    "    F_vec[iT] = logZ_vec[iT]*T_vec[iT];                                        # Free energy\n",
    "    \n",
    "    N0 = int(N0*2);         # Update the value of N0 at the end of each iteration\n",
    "    \n",
    "    print('1 = '+str(integral_dS1[iT])+'                2 = '+str(integral_dS2[iT]))\n",
    "    print(mean_deltaS[:, iT])\n",
    "    \n",
    "    \n",
    "# Plotting the results\n",
    "fig, ax = plt.subplots(figsize=(10,6))\n",
    "ax.plot(T_vec, F_vec, 'o');\n",
    "ax.set_xlabel('$T$');\n",
    "ax.set_ylabel('$F$');\n",
    "ax.set_xscale('log');\n",
    "plt.grid(linewidth=0.5);\n",
    "plt.title('Free energy');\n",
    "plt.show();"
   ]
  },
  {
   "cell_type": "markdown",
   "id": "51b45e90",
   "metadata": {},
   "source": [
    "### Hysteresis effects\n",
    "In order to take into account possible hysteresis effects, the above integral has been computed two times, by letting $\\alpha$ grow from $0$ to $1$ (which is the $\\textit{forward}$ one) and then by letting it decrease from $1$ to $0$, coming back to the starting point ($\\textit{backward}$ integral). The hysteresis error is then estimated as:\n",
    "\n",
    "$$\n",
    "\\delta F_{Hyst}=\\frac{T}{2} \\left|\\int_0^1 d\\alpha' \\left<\\Delta S\\right>_{\\alpha'} - \\int_1^0 d\\alpha' \\left<\\Delta S\\right>_{\\alpha'}\\right|\n",
    "$$\n",
    "\n",
    "The following plots show the hysteresis effects, which turn out to be non-negligible with the default choice of parameters. In particular, one finds that $\\delta F_{Hyst} \\approx 0.1\\div 0.2\\,\\%$ for $N_{switch}=20$; increasing $N_{switch}$ would reduce this systematic error, but the time required increases a lot as well. Moreover, with smaller hysteresis errors we would also have to evaluate statistical errors, which is time consuming as well; for this reason, we assume here that the most relevant source of error, for $N_{sweeps}\\gtrsim 100$, is due to hysteresis."
   ]
  },
  {
   "cell_type": "code",
   "execution_count": 79,
   "id": "246a6ac4",
   "metadata": {},
   "outputs": [
    {
     "data": {
      "image/png": "[encoded data removed]",
      "text/plain": [
       "<Figure size 720x432 with 1 Axes>"
      ]
     },
     "metadata": {
      "needs_background": "light"
     },
     "output_type": "display_data"
    },
    {
     "data": {
      "image/png": "[encoded data removed]",
      "text/plain": [
       "<Figure size 720x432 with 1 Axes>"
      ]
     },
     "metadata": {
      "needs_background": "light"
     },
     "output_type": "display_data"
    }
   ],
   "source": [
    "# Mean values plot\n",
    "fig, ax = plt.subplots(figsize=(10,6))\n",
    "N0 = N;\n",
    "for iT in range(n):\n",
    "    ax.plot(alpha_vec[0:Nswitch+1], mean_deltaS[0:Nswitch+1, iT], label = 'Forward, N = '+str(round(N0)));\n",
    "    ax.plot(alpha_vec[Nswitch:2*Nswitch+1], mean_deltaS[Nswitch:2*Nswitch+1, iT], label = 'Backward, N = '+str(round(N0)));\n",
    "    N0 = 2*N0;\n",
    "    \n",
    "ax.set_xlabel('$\\\\alpha$');\n",
    "ax.set_ylabel('$<\\Delta S>_\\\\alpha$');\n",
    "plt.grid(linewidth=0.5);\n",
    "plt.title('Hysteresis effects - 1');\n",
    "ax.legend(loc='center left', bbox_to_anchor=(1, 0.5))\n",
    "plt.show();\n",
    "\n",
    "# Ratio between integrals\n",
    "fig, ax = plt.subplots(figsize=(10,6))\n",
    "ax.plot([i for i in range(n)], np.abs(integral_dS1 / integral_dS2));\n",
    "plt.axhline(y = 1, ls = '--', color = 'red')\n",
    "ax.set_xlabel('Iteration');\n",
    "ax.set_ylabel('Forward / Backward integral');\n",
    "plt.grid(linewidth=0.5);\n",
    "plt.title('Hysteresis effects - 2');\n",
    "plt.show();\n",
    "\n",
    "# Hysteresis error estimate (the factor T is included at the end of the code)\n",
    "err_hyst = np.abs(integral_dS1 - integral_dS2) / 2;"
   ]
  },
  {
   "cell_type": "markdown",
   "id": "d2a10d5c",
   "metadata": {},
   "source": [
    "## Exact diagonalization\n",
    "We repeat the exact diagonalization procedure in order to compare it with the Monte Carlo data."
   ]
  },
  {
   "cell_type": "code",
   "execution_count": 9,
   "id": "335861db",
   "metadata": {},
   "outputs": [],
   "source": [
    "Ngrid = 800;\n",
    "xmin = -5;\n",
    "xmax = 5;\n",
    "\n",
    "# Potential\n",
    "xvec = np.linspace(xmin, xmax, Ngrid);     # Vector spanning from xmin to xmax with Ngrid points\n",
    "Vx = Lambda*(xvec**2-eta**2)**2;\n",
    "\n",
    "# Kinetic energy discretization\n",
    "dx = np.diff(xvec).mean();     # Grid resolution\n",
    "diag = -2*np.ones(Ngrid);      # -2f(x)\n",
    "offdiag = np.ones(Ngrid-1);    # f(x+dx) and f(x-dx)\n",
    "\n",
    "d2grid = np.mat(np.diag(diag,0) + np.diag(offdiag,-1) + np.diag(offdiag,1))/dx**2;     # Discretized second derivative\n",
    "\n",
    "# Avoid problems at the edge of the grid\n",
    "d2grid[0,:] = 0;\n",
    "d2grid[Ngrid-1,:] = 0;\n",
    "\n",
    "Ekin = -hbar**2/(2*m)*d2grid;\n",
    "\n",
    "# Potential energy discretization\n",
    "Epot = np.mat(np.diag(Vx, 0))\n",
    "\n",
    "# Total Hamiltonian diagonalization\n",
    "H = Ekin + Epot;\n",
    "w, v = LA.eig(H);\n",
    "\n",
    "sortinds = np.argsort(w);     # Returns the indices that would sort the array w\n",
    "EigVals = w[sortinds];        # Eigenvalues sorting\n",
    "EigVecs = v[:,sortinds];      # Corresponding eigenvectors sorting"
   ]
  },
  {
   "cell_type": "markdown",
   "id": "f404677d",
   "metadata": {},
   "source": [
    "### Free energy from exact diagonalization\n",
    "The free energy can be also computed from exact diagonalization, by using the definition of partition function and the exactly computed eigenvalues:\n",
    "\n",
    "$$\n",
    "Z(T) = \\sum_n e^{-\\beta E_n}\n",
    "$$"
   ]
  },
  {
   "cell_type": "code",
   "execution_count": 60,
   "id": "3e686414",
   "metadata": {},
   "outputs": [
    {
     "data": {
      "image/png": "[encoded data removed]",
      "text/plain": [
       "<Figure size 720x432 with 1 Axes>"
      ]
     },
     "metadata": {
      "needs_background": "light"
     },
     "output_type": "display_data"
    }
   ],
   "source": [
    "# Bounds\n",
    "xmin = 0.1;\n",
    "xmax = 100;\n",
    "xlogmax = np.log(xmax);\n",
    "xlogmin = np.log(xmin);\n",
    "xlog_vec = np.linspace(xlogmin, xlogmax, Ngrid);\n",
    "\n",
    "F = np.zeros(Ngrid);              # Initialize the free energy\n",
    "T = np.zeros(Ngrid);              # Initialize the temperature\n",
    "\n",
    "for il in range(Ngrid):\n",
    "    xlog = xlog_vec[il];\n",
    "    xl = np.exp(xlog);\n",
    "    T[il] = 1/xl;\n",
    "    Z  = 0;                       # Initialize the partition function\n",
    "    \n",
    "    for i in range(Ngrid):                  # Compute the partition function\n",
    "        Z = Z + np.exp(-EigVals[i]*xl);\n",
    "    \n",
    "    F[il] = T[il]*np.log(Z);                # Compute the free energy\n",
    "    \n",
    "\n",
    "# Plotting the results\n",
    "fig, ax = plt.subplots(figsize=(10,6))\n",
    "ax.plot(T, F, label = 'Exact');\n",
    "plt.xlim([0.05, 2])\n",
    "plt.ylim([-3.5, -1])\n",
    "ax.set_xlabel('$T$');\n",
    "ax.set_ylabel('$F$');\n",
    "ax.set_xscale('log');\n",
    "plt.grid(linewidth=0.5);\n",
    "plt.title('Free energy');\n",
    "\n",
    "# Adding Monte Carlo data to the plot\n",
    "ax.plot(T_vec, F_vec, 'o', label = 'Monte Carlo');\n",
    "plt.errorbar(T_vec, F_vec, yerr = err_hyst*T_vec, xerr = None, fmt = 'None', ecolor = 'black')\n",
    "plt.show();"
   ]
  },
  {
   "cell_type": "code",
   "execution_count": null,
   "id": "7d01bf99",
   "metadata": {},
   "outputs": [],
   "source": []
  }
 ],
 "metadata": {
  "kernelspec": {
   "display_name": "Python 3 (ipykernel)",
   "language": "python",
   "name": "python3"
  },
  "language_info": {
   "codemirror_mode": {
    "name": "ipython",
    "version": 3
   },
   "file_extension": ".py",
   "mimetype": "text/x-python",
   "name": "python",
   "nbconvert_exporter": "python",
   "pygments_lexer": "ipython3",
   "version": "3.10.2"
  }
 },
 "nbformat": 4,
 "nbformat_minor": 5
}
