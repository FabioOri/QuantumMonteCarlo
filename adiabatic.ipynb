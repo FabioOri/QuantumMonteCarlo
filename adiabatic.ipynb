{
 "cells": [
  {
   "cell_type": "markdown",
   "id": "5eae8c53",
   "metadata": {},
   "source": [
    "# Adiabatic switching in Quantum Monte Carlo\n",
    "The programme...\n",
    "\n",
    "Input parameters, with default values:\n",
    "- potential parameters: $\\lambda=1$, $\\eta=1.4$\n",
    "- mass of the particle: $m=0.5$\n",
    "- number of lattice points: $N=800$\n",
    "- lattice spacing: $a=0.05$\n",
    "- number of Metropolis configurations: $N_{sweeps}=100$\n",
    "- number of sweeps between each measurement: $N_{cor}=20$\n",
    "- oscillator constant of the reference system: $\\omega_0=4\\eta=5.6$\n",
    "- number of steps in adiabatic switching: $N_{switch}=20$"
   ]
  },
  {
   "cell_type": "code",
   "execution_count": 1,
   "id": "38b6ea95",
   "metadata": {},
   "outputs": [],
   "source": [
    "import matplotlib.pyplot as plt\n",
    "import numpy as np\n",
    "from numpy import linalg as LA\n",
    "import math\n",
    "import random\n",
    "from tqdm.notebook import tqdm"
   ]
  },
  {
   "cell_type": "code",
   "execution_count": 2,
   "id": "000d10a8",
   "metadata": {},
   "outputs": [
    {
     "name": "stdout",
     "output_type": "stream",
     "text": [
      "lambda = \n",
      "eta = \n",
      "m = \n"
     ]
    }
   ],
   "source": [
    "# Parameters of the potential\n",
    "Lambda = float(input(\"lambda = \") or 1);\n",
    "eta = float(input(\"eta = \") or 1.4);\n",
    "m = float(input(\"m = \") or 1/2);\n",
    "hbar = 1;"
   ]
  },
  {
   "cell_type": "code",
   "execution_count": 3,
   "id": "cfcbf184",
   "metadata": {},
   "outputs": [
    {
     "name": "stdout",
     "output_type": "stream",
     "text": [
      "N = \n",
      "a = \n",
      "Nsweeps = \n",
      "Ncorrelation = \n"
     ]
    }
   ],
   "source": [
    "# Lattice parameters\n",
    "N = int(input(\"N = \") or 800);\n",
    "a = float(input(\"a = \") or 0.05);\n",
    "Nsweeps = int(input(\"Nsweeps = \") or 100);\n",
    "Ncor = int(input(\"Ncorrelation = \") or 20);"
   ]
  },
  {
   "cell_type": "code",
   "execution_count": 16,
   "id": "e7fea5e9",
   "metadata": {},
   "outputs": [
    {
     "name": "stdout",
     "output_type": "stream",
     "text": [
      "omega0 = \n",
      "nswitch = \n"
     ]
    }
   ],
   "source": [
    "# Additional parameters\n",
    "w0 = float(input(\"omega0 = \") or 4*eta);\n",
    "nswitch = int(input(\"nswitch = \") or 20);\n",
    "\n",
    "dalpha = 1.0/float(nswitch);     # Lattice separation in alpha space\n",
    "beta = N*a;                      # Total euclidean time"
   ]
  },
  {
   "cell_type": "code",
   "execution_count": 5,
   "id": "0a700e0e",
   "metadata": {},
   "outputs": [
    {
     "name": "stdout",
     "output_type": "stream",
     "text": [
      "Type C for cold start, H for hot start: C\n"
     ]
    }
   ],
   "source": [
    "# Generating the initial configuration\n",
    "x = np.zeros(N);\n",
    "\n",
    "while True:\n",
    "    choice = input(\"Type C for cold start, H for hot start: \")\n",
    "    if choice == \"C\":                          # Cold start configuration\n",
    "        break\n",
    "    elif choice == \"H\":\n",
    "        for i in range(N):\n",
    "            x[i] = x[i] + random.random();     # Hot start configuration\n",
    "        break"
   ]
  },
  {
   "cell_type": "code",
   "execution_count": 11,
   "id": "8cbab088",
   "metadata": {},
   "outputs": [],
   "source": [
    "# Function that evaluates the action of a given configuration\n",
    "def S(x):\n",
    "    Action = 0\n",
    "    \n",
    "    for j in range(N):\n",
    "        if j == N-1:\n",
    "            Action = Action + ((x[j]-x[j-1])**2 + (x[0]-x[j])**2)/(4*a) + a*(x[j]**2-eta**2)**2;       # PBC\n",
    "        else:\n",
    "            Action = Action + ((x[j]-x[j-1])**2 + (x[j+1]-x[j])**2)/(4*a) + a*(x[j]**2-eta**2)**2;\n",
    "    \n",
    "    return Action"
   ]
  },
  {
   "cell_type": "code",
   "execution_count": 17,
   "id": "2b4b409e",
   "metadata": {},
   "outputs": [],
   "source": [
    "e0 = w0/2;\n",
    "f0 = 1/beta*np.log(2*np.sinh(w0/2*beta));\n",
    "ei = e0;\n",
    "\n",
    "for ialpha in range(2*nswitch):\n",
    "    if ialpha < nswitch:\n",
    "        alpha = ialpha*dalpha;\n",
    "    else:\n",
    "        alpha = 2-ialpha*dalpha;"
   ]
  },
  {
   "cell_type": "code",
   "execution_count": null,
   "id": "c36ee2b7",
   "metadata": {},
   "outputs": [],
   "source": []
  }
 ],
 "metadata": {
  "kernelspec": {
   "display_name": "Python 3 (ipykernel)",
   "language": "python",
   "name": "python3"
  },
  "language_info": {
   "codemirror_mode": {
    "name": "ipython",
    "version": 3
   },
   "file_extension": ".py",
   "mimetype": "text/x-python",
   "name": "python",
   "nbconvert_exporter": "python",
   "pygments_lexer": "ipython3",
   "version": "3.10.2"
  }
 },
 "nbformat": 4,
 "nbformat_minor": 5
}
